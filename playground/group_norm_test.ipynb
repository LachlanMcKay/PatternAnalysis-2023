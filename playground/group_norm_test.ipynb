{
 "cells": [
  {
   "cell_type": "code",
   "execution_count": 52,
   "metadata": {},
   "outputs": [],
   "source": [
    "import torch.nn as nn\n",
    "import torch\n",
    "\n",
    "# Input: batch size=2, dimension=4\n",
    "BN = nn.BatchNorm2d(4, momentum=0.001)\n",
    "LN = nn.LayerNorm([4, 2, 2])\n",
    "IN = nn.InstanceNorm2d(4, momentum=0.001, track_running_stats=True)\n",
    "GN = nn.GroupNorm(2, 4)"
   ]
  },
  {
   "cell_type": "code",
   "execution_count": 53,
   "metadata": {},
   "outputs": [],
   "source": [
    "with torch.no_grad():\n",
    "    bns = []\n",
    "    lns = []\n",
    "    ins = []\n",
    "    gns = []\n",
    "    # Input: batch size=2, dimension=4\n",
    "    for _ in range(1000):\n",
    "        X = torch.randn(2, 4, 2, 2) * torch.Tensor([1, 2, 3, 4]).view([1, 4, 1, 1])\n",
    "        X = X + torch.Tensor([[[[0.25]]], [[[0.75]]]])\n",
    "        bns.append(BN(X))\n",
    "        lns.append(LN(X))\n",
    "        ins.append(IN(X))\n",
    "        gns.append(GN(X))"
   ]
  },
  {
   "cell_type": "code",
   "execution_count": 54,
   "metadata": {},
   "outputs": [
    {
     "name": "stdout",
     "output_type": "stream",
     "text": [
      "BN: tensor([0.3238, 0.2936, 0.3012, 0.2675]) tensor([1.0145, 1.6870, 2.4865, 3.2944])\n",
      "BN result:\n",
      "\n",
      "tensor([[-0.2215, -0.1286, -0.1157, -0.1002],\n",
      "        [ 0.2815,  0.1597,  0.1325,  0.1138]])\n",
      "tensor([[0.9609, 0.9979, 1.0320, 0.9907],\n",
      "        [0.9550, 0.9651, 0.9872, 0.9775]])\n"
     ]
    }
   ],
   "source": [
    "# Running Stats: (1, 4)\n",
    "# Mean: (0.25 + 0.75) / 2, std should = [1, 2, 3, 4]\n",
    "print(\"BN:\", BN.running_mean, BN.running_var**0.5)\n",
    "def result(x):\n",
    "    x = torch.concat([b.view([-1, *b.shape]) for b in x])\n",
    "    return torch.mean(x, 0)[:, :, 0, 0], torch.std(x, 0)[:, :, 0, 0]\n",
    "\n",
    "print(\"BN result:\\n\", *result(bns), sep='\\n')"
   ]
  },
  {
   "cell_type": "code",
   "execution_count": 55,
   "metadata": {},
   "outputs": [
    {
     "name": "stdout",
     "output_type": "stream",
     "text": [
      "IN: tensor([0.3238, 0.2936, 0.3012, 0.2675]) tensor([0.9908, 1.6743, 2.4750, 3.2985])\n",
      "IN result:\n",
      "\n",
      "tensor([[ 0.0358,  0.0184, -0.0253, -0.0375],\n",
      "        [ 0.0144,  0.0089,  0.0657,  0.0599]])\n",
      "tensor([[0.9902, 0.9971, 1.0313, 0.9848],\n",
      "        [0.9996, 0.9877, 0.9990, 0.9908]])\n"
     ]
    }
   ],
   "source": [
    "# Running Stats: (2, 4)\n",
    "# Normalize for each sample -> all output should be (0, 1)\n",
    "print(\"IN:\", IN.running_mean, IN.running_var**0.5)\n",
    "print(\"IN result:\\n\", *result(ins), sep='\\n')"
   ]
  },
  {
   "cell_type": "code",
   "execution_count": 56,
   "metadata": {},
   "outputs": [
    {
     "name": "stdout",
     "output_type": "stream",
     "text": [
      "LN result:\n",
      "\n",
      "tensor([[ 0.0317,  0.0131, -0.0292, -0.0660],\n",
      "        [ 0.0254,  0.0145,  0.0668,  0.0551]])\n",
      "tensor([[0.4551, 0.8051, 1.1432, 1.3767],\n",
      "        [0.4830, 0.7494, 1.1000, 1.3757]])\n"
     ]
    }
   ],
   "source": [
    "# Running Stats: (2, 1)\n",
    "# Output Mean: Should all be 0. (Sample 1=0.25-0.25, Sample 2=0.75-0.75)\n",
    "# Output Std: each sample has same variance\n",
    "print(\"LN result:\\n\", *result(lns), sep='\\n')"
   ]
  },
  {
   "cell_type": "code",
   "execution_count": 57,
   "metadata": {},
   "outputs": [
    {
     "name": "stdout",
     "output_type": "stream",
     "text": [
      "GN result:\n",
      "\n",
      "tensor([[ 0.0317,  0.0131, -0.0292, -0.0660],\n",
      "        [ 0.0254,  0.0145,  0.0668,  0.0551]])\n",
      "tensor([[0.4551, 0.8051, 1.1432, 1.3767],\n",
      "        [0.4830, 0.7494, 1.1000, 1.3757]])\n"
     ]
    }
   ],
   "source": [
    "# Group = 1 -> Layer Norm\n",
    "# Group = 4 -> Instance Norm\n",
    "# Group = 2 -> Split 2 blocks and do Layer Norm\n",
    "print(\"GN result:\\n\", *result(gns), sep='\\n')"
   ]
  }
 ],
 "metadata": {
  "kernelspec": {
   "display_name": "Python 3",
   "language": "python",
   "name": "python3"
  },
  "language_info": {
   "codemirror_mode": {
    "name": "ipython",
    "version": 3
   },
   "file_extension": ".py",
   "mimetype": "text/x-python",
   "name": "python",
   "nbconvert_exporter": "python",
   "pygments_lexer": "ipython3",
   "version": "3.9.6"
  },
  "orig_nbformat": 4
 },
 "nbformat": 4,
 "nbformat_minor": 2
}
