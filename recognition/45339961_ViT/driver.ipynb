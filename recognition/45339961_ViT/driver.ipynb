{
 "cells": [
  {
   "cell_type": "code",
   "execution_count": 1,
   "metadata": {},
   "outputs": [
    {
     "data": {
      "text/plain": [
       "<torch._C.Generator at 0x24104bb4270>"
      ]
     },
     "execution_count": 1,
     "metadata": {},
     "output_type": "execute_result"
    }
   ],
   "source": [
    "import torch\n",
    "from torch import nn\n",
    "from torchinfo import summary\n",
    "import numpy as np\n",
    "\n",
    "from tqdm import tqdm, trange\n",
    "\n",
    "import torch\n",
    "import torch.nn as nn\n",
    "from torch.optim import Adam\n",
    "from torch.nn import CrossEntropyLoss\n",
    "from torch.utils.data import DataLoader\n",
    "\n",
    "from torchvision.transforms import ToTensor\n",
    "from torchvision.datasets.mnist import MNIST\n",
    "\n",
    "import os\n",
    "import torch\n",
    "from torchvision import transforms, datasets\n",
    "from torch.utils.data import DataLoader, Dataset\n",
    "import matplotlib.pyplot as plt\n",
    "from PIL import Image\n",
    "\n",
    "np.random.seed(0)\n",
    "torch.manual_seed(0)"
   ]
  },
  {
   "cell_type": "code",
   "execution_count": 2,
   "metadata": {},
   "outputs": [],
   "source": [
    "class ADNIDataset(Dataset):\n",
    "    def __init__(self, root_dir, transform=None):\n",
    "        self.root_dir = root_dir\n",
    "        self.transform = transform\n",
    "\n",
    "        # Get a list of subdirectories (labels) in the root directory\n",
    "        self.labels = sorted(os.listdir(root_dir))\n",
    "\n",
    "        # Create a mapping from label (subdirectory) to an integer\n",
    "        self.label_to_idx = {label: idx for idx, label in enumerate(self.labels)}\n",
    "\n",
    "        self.data = []\n",
    "        self.targets = []\n",
    "        self.names = []\n",
    "\n",
    "        # Create a dictionary to store the count of images for each class\n",
    "        self.class_counts = {label: 0 for label in self.labels}\n",
    "\n",
    "        # Iterate through subdirectories\n",
    "        for label in self.labels:\n",
    "            label_dir = os.path.join(root_dir, label)\n",
    "            \n",
    "            # Check if it's a directory\n",
    "            if not os.path.isdir(label_dir):\n",
    "                continue\n",
    "\n",
    "            # Get a list of image files in the subdirectory\n",
    "            image_files = [f for f in os.listdir(label_dir) if f.lower().endswith((\".jpg\", \".jpeg\", \".png\", \".gif\"))]\n",
    "\n",
    "            # Update class counts and append image paths and their corresponding labels\n",
    "            for image_file in image_files:\n",
    "                image_path = os.path.join(label_dir, image_file)\n",
    "                self.data.append(image_path)\n",
    "                self.targets.append(self.label_to_idx[label])\n",
    "                self.names.append(image_file)\n",
    "                self.class_counts[label] += 1\n",
    "\n",
    "    def __len__(self):\n",
    "        return len(self.data)\n",
    "\n",
    "    def __getitem__(self, idx):\n",
    "        image_path = self.data[idx]\n",
    "        image = Image.open(image_path)\n",
    "\n",
    "        if self.transform:\n",
    "            image = self.transform(image)\n",
    "\n",
    "        label = self.targets[idx]\n",
    "        name = self.names[idx]\n",
    "\n",
    "        return image, label, name\n",
    "\n",
    "    def get_class_counts(self):\n",
    "        return self.class_counts\n",
    "    \n",
    "    def get_labels(self):\n",
    "        return self.labels\n",
    "    \n",
    "    def get_names(self):\n",
    "        return self.names\n",
    "\n",
    "def create_dataloaders(dir, batch_size, shuffle=True, transform=None, num_workers=4):\n",
    "    train_path = os.path.join(dir, \"train\")\n",
    "    test_path = os.path.join(dir, \"test\")\n",
    "\n",
    "    train_dataset = ADNIDataset(train_path, transform=transform)\n",
    "    test_dataset = ADNIDataset(test_path, transform=transform)\n",
    "\n",
    "    train_loader = DataLoader(train_dataset, batch_size=batch_size, shuffle=False, drop_last=True)\n",
    "    test_loader = DataLoader(test_dataset, batch_size=batch_size, shuffle=False, drop_last=True)\n",
    "\n",
    "    return train_loader, test_loader"
   ]
  },
  {
   "cell_type": "code",
   "execution_count": 3,
   "metadata": {},
   "outputs": [
    {
     "name": "stdout",
     "output_type": "stream",
     "text": [
      "Using device:  cuda (NVIDIA GeForce RTX 3060 Laptop GPU)\n"
     ]
    }
   ],
   "source": [
    "PATCH_SIZE = 16 # P\n",
    "IMAGE_WIDTH = 192\n",
    "IMAGE_HEIGHT = IMAGE_WIDTH\n",
    "IMAGE_CHANNELS = 1\n",
    "BATCH_SIZE = 64\n",
    "NUM_HEADS = 6\n",
    "NUM_LAYERS = 2\n",
    "MLP_DROPOUT = 0.1\n",
    "ATTN_DROPOUT = 0.0\n",
    "EMBEDDING_DROPOUT = 0.1\n",
    "MLP_SIZE = 768\n",
    "NUM_CLASSES = 2\n",
    "\n",
    "device = torch.device(\"cuda\" if torch.cuda.is_available() else \"cpu\")\n",
    "print(\"Using device: \", device, f\"({torch.cuda.get_device_name(device)})\" if torch.cuda.is_available() else \"\")\n",
    "N_EPOCHS = 50\n",
    "LR = 0.001\n",
    "\n",
    "# EMBEDDING_DIMS = IMAGE_CHANNELS * PATCH_SIZE**2 # Hidden Size D\n",
    "EMBEDDING_DIMS = 24\n",
    "\n",
    "#the image width and image height should be divisible by patch size. This is a check to see that.\n",
    "assert IMAGE_WIDTH % PATCH_SIZE == 0 and IMAGE_HEIGHT % PATCH_SIZE ==0 , print(\"Image Width is not divisible by patch size\")"
   ]
  },
  {
   "cell_type": "code",
   "execution_count": 4,
   "metadata": {},
   "outputs": [],
   "source": [
    "train_transform = transforms.Compose([\n",
    "    transforms.Resize((IMAGE_WIDTH, IMAGE_WIDTH)),\n",
    "    transforms.Grayscale(num_output_channels=1),\n",
    "    # transforms.RandomRotation(degrees=90),\n",
    "    transforms.ToTensor(),\n",
    "])\n",
    "\n",
    "test_transform = transforms.Compose([\n",
    "    transforms.Resize((IMAGE_WIDTH, IMAGE_WIDTH)),\n",
    "    transforms.Grayscale(num_output_channels=1),\n",
    "    transforms.ToTensor(),\n",
    "])\n",
    "\n",
    "from dataset import basic_loader\n",
    "\n",
    "train_dir = \"C:/Users/Jacqu/Downloads/AD_NC/train\"\n",
    "test_dir = \"C:/Users/Jacqu/Downloads/AD_NC/test\"\n",
    "\n",
    "train_loader = basic_loader(dir=train_dir, transform=train_transform, batch_size=BATCH_SIZE, shuffle=True)\n",
    "test_loader = basic_loader(dir=test_dir, transform=test_transform, batch_size=BATCH_SIZE, shuffle=False)\n",
    "\n",
    "# train_loader, test_loader = create_dataloaders(\"D:/AD_NC\", transform=transform, batch_size=BATCH_SIZE)\n",
    "# train_data = datasets.ImageFolder(root=\"D:/AD_NC/train\", transform=train_transform)\n",
    "# test_data = datasets.ImageFolder(root=\"D:/AD_NC/test\", transform=test_transform)\n",
    "\n",
    "# train_loader = DataLoader(train_data, batch_size=BATCH_SIZE, shuffle=True, drop_last=True)\n",
    "# test_loader = DataLoader(test_data, batch_size=BATCH_SIZE, shuffle=False, drop_last=True)\n",
    "\n",
    "# print(len(test_loader))\n",
    "# print(train_loader.dataset.get_class_counts())\n",
    "# print(test_loader.dataset.get_class_counts())"
   ]
  },
  {
   "cell_type": "code",
   "execution_count": 5,
   "metadata": {},
   "outputs": [
    {
     "data": {
      "text/plain": [
       "============================================================================================================================================\n",
       "Layer (type (var_name))                                      Input Shape          Output Shape         Param #              Trainable\n",
       "============================================================================================================================================\n",
       "ViT (ViT)                                                    [64, 1, 192, 192]    [64, 2]              3,504                True\n",
       "├─PatchEmbedding (patch_embedding)                           [64, 1, 192, 192]    [64, 144, 24]        --                   True\n",
       "│    └─Conv2d (patcher)                                      [64, 1, 192, 192]    [64, 24, 12, 12]     6,168                True\n",
       "│    └─Flatten (flatten)                                     [64, 24, 12, 12]     [64, 24, 144]        --                   --\n",
       "├─Dropout (embedding_dropout)                                [64, 145, 24]        [64, 145, 24]        --                   --\n",
       "├─Sequential (transformer_encoder)                           [64, 145, 24]        [64, 145, 24]        --                   True\n",
       "│    └─TransformerEncoderBlock (0)                           [64, 145, 24]        [64, 145, 24]        --                   True\n",
       "│    │    └─MSABlock (msa_block)                             [64, 145, 24]        [64, 145, 24]        2,448                True\n",
       "│    │    └─MLPBlock (mlp_block)                             [64, 145, 24]        [64, 145, 24]        37,704               True\n",
       "│    └─TransformerEncoderBlock (1)                           [64, 145, 24]        [64, 145, 24]        --                   True\n",
       "│    │    └─MSABlock (msa_block)                             [64, 145, 24]        [64, 145, 24]        2,448                True\n",
       "│    │    └─MLPBlock (mlp_block)                             [64, 145, 24]        [64, 145, 24]        37,704               True\n",
       "├─Sequential (classifier)                                    [64, 24]             [64, 2]              --                   True\n",
       "│    └─LayerNorm (0)                                         [64, 24]             [64, 24]             48                   True\n",
       "│    └─Linear (1)                                            [64, 24]             [64, 2]              50                   True\n",
       "============================================================================================================================================\n",
       "Total params: 90,074\n",
       "Trainable params: 90,074\n",
       "Non-trainable params: 0\n",
       "Total mult-adds (Units.MEGABYTES): 61.68\n",
       "============================================================================================================================================\n",
       "Input size (MB): 9.44\n",
       "Forward/backward pass size (MB): 126.51\n",
       "Params size (MB): 0.33\n",
       "Estimated Total Size (MB): 136.27\n",
       "============================================================================================================================================"
      ]
     },
     "execution_count": 5,
     "metadata": {},
     "output_type": "execute_result"
    }
   ],
   "source": [
    "from modules import *\n",
    "model = ViT(\n",
    "        img_size=IMAGE_WIDTH,\n",
    "        in_channels = IMAGE_CHANNELS,\n",
    "        patch_size = PATCH_SIZE,\n",
    "        embedding_dim = EMBEDDING_DIMS,\n",
    "        num_transformer_layers = NUM_LAYERS, # from table 1 above\n",
    "        mlp_dropout = MLP_DROPOUT,\n",
    "        attn_dropout = ATTN_DROPOUT,\n",
    "        embedding_dropout=EMBEDDING_DROPOUT,\n",
    "        mlp_size = MLP_SIZE,\n",
    "        num_heads = NUM_HEADS,\n",
    "        num_classes = NUM_CLASSES).to(device)\n",
    "\n",
    "summary(model=model,\n",
    "        input_size=(BATCH_SIZE, IMAGE_CHANNELS, IMAGE_HEIGHT, IMAGE_WIDTH), # (batch_size, num_patches, embedding_dimension)\n",
    "        col_names=[\"input_size\", \"output_size\", \"num_params\", \"trainable\"],\n",
    "        col_width=20,\n",
    "        row_settings=[\"var_names\"])"
   ]
  },
  {
   "cell_type": "code",
   "execution_count": 6,
   "metadata": {},
   "outputs": [],
   "source": [
    "optimizer = Adam(model.parameters(), \n",
    "                lr=LR)\n",
    "                # weight_decay=0.1,\n",
    "                # betas=(0.9, 0.999)) # Based on the paper\n",
    "criterion = CrossEntropyLoss()"
   ]
  },
  {
   "cell_type": "code",
   "execution_count": 7,
   "metadata": {},
   "outputs": [
    {
     "name": "stdout",
     "output_type": "stream",
     "text": [
      "64\n",
      "(1, 192, 192)\n"
     ]
    },
    {
     "data": {
      "image/png": "[encoded data removed]",
      "text/plain": [
       "<Figure size 640x480 with 1 Axes>"
      ]
     },
     "metadata": {},
     "output_type": "display_data"
    }
   ],
   "source": [
    "images, labels = next(iter(train_loader))\n",
    "image = images[0]\n",
    "imagesnp = images.numpy()\n",
    "print(len(images))\n",
    "print(imagesnp[0].shape)\n",
    "# print(names[0])\n",
    "plt.imshow(imagesnp[0][0], cmap='gray')\n",
    "plt.axis(\"off\")\n",
    "plt.show()"
   ]
  },
  {
   "cell_type": "code",
   "execution_count": 8,
   "metadata": {},
   "outputs": [],
   "source": [
    "# conv_layer = nn.Conv2d(in_channels = IMAGE_CHANNELS, out_channels = EMBEDDING_DIMS, kernel_size = PATCH_SIZE, stride = PATCH_SIZE)\n",
    "\n",
    "# # Pass the image through the convolution layer\n",
    "# image_through_conv = conv_layer(image.unsqueeze(0))\n",
    "# print(f'Shape of embeddings through the conv layer -> {list(image_through_conv.shape)} <- [batch_size, num_of_patch_rows, num_patch_cols embedding_dims]')\n",
    "\n",
    "# # Permute the dimensions of image_through_conv to match the expected shape\n",
    "# image_through_conv = image_through_conv.permute((0, 2, 3, 1))\n",
    "\n",
    "# # Create a flatten layer using nn.Flatten\n",
    "# flatten_layer = nn.Flatten(start_dim=1, end_dim=2)\n",
    "\n",
    "# # Pass the image_through_conv through the flatten layer\n",
    "# image_through_conv_and_flatten = flatten_layer(image_through_conv)\n",
    "\n",
    "# # Print the shape of the embedded image\n",
    "# print(f'Shape of embeddings through the flatten layer -> {list(image_through_conv_and_flatten.shape)} <- [batch_size, num_of_patches, embedding_dims]')\n",
    "\n",
    "# # Assign the embedded image to a variable\n",
    "# embedded_image = image_through_conv_and_flatten"
   ]
  },
  {
   "cell_type": "code",
   "execution_count": 9,
   "metadata": {},
   "outputs": [],
   "source": [
    "# class_token_embeddings = nn.Parameter(torch.rand((1, 1, EMBEDDING_DIMS), requires_grad  = True))\n",
    "# print(f'Shape of class_token_embeddings --> {list(class_token_embeddings.shape)} <-- [batch_size, 1, emdedding_dims]')\n",
    "\n",
    "# embedded_image_with_class_token_embeddings = torch.cat((class_token_embeddings, embedded_image), dim = 1)\n",
    "# print(f'\\nShape of image embeddings with class_token_embeddings --> {list(embedded_image_with_class_token_embeddings.shape)} <-- [batch_size, num_of_patches+1, embeddiing_dims]')\n",
    "\n",
    "# position_embeddings = nn.Parameter(torch.rand((1, NUM_OF_PATCHES+1, EMBEDDING_DIMS ), requires_grad = True ))\n",
    "# print(f'\\nShape of position_embeddings --> {list(position_embeddings.shape)} <-- [batch_size, num_patches+1, embeddings_dims]')\n",
    "\n",
    "# final_embeddings = embedded_image_with_class_token_embeddings + position_embeddings\n",
    "# print(f'\\nShape of final_embeddings --> {list(final_embeddings.shape)} <-- [batch_size, num_patches+1, embeddings_dims]')"
   ]
  },
  {
   "cell_type": "code",
   "execution_count": 10,
   "metadata": {},
   "outputs": [],
   "source": [
    "# class PatchEmbeddingLayer(nn.Module):\n",
    "#     def __init__(self, \n",
    "#                 in_channels, \n",
    "#                 patch_size, \n",
    "#                 embedding_dim,\n",
    "#                 batch_size,\n",
    "#                 n_patches):\n",
    "#         super().__init__()\n",
    "#         self.patch_size = patch_size\n",
    "#         self.embedding_dim = embedding_dim\n",
    "#         self.in_channels = in_channels\n",
    "#         self.conv_layer = nn.Conv2d(in_channels=in_channels, out_channels=embedding_dim, kernel_size=patch_size, stride=patch_size)\n",
    "#         self.flatten_layer = nn.Flatten(start_dim=1, end_dim=2)\n",
    "#         self.class_token_embeddings = nn.Parameter(torch.rand((batch_size, 1, embedding_dim), requires_grad=True))\n",
    "#         self.position_embeddings = nn.Parameter(torch.rand((1, n_patches + 1, embedding_dim), requires_grad=True))\n",
    "\n",
    "#     def forward(self, x):\n",
    "#         output = torch.cat((self.class_token_embeddings, self.flatten_layer(self.conv_layer(x).permute((0, 2, 3, 1)))), dim=1) + self.position_embeddings\n",
    "#         return output"
   ]
  },
  {
   "cell_type": "code",
   "execution_count": 11,
   "metadata": {},
   "outputs": [],
   "source": [
    "# patch_embedding_layer = PatchEmbeddingLayer(in_channels=IMAGE_CHANNELS, \n",
    "#                                             patch_size=PATCH_SIZE, \n",
    "#                                             embedding_dim=EMBEDDING_DIMS,\n",
    "#                                             batch_size=BATCH_SIZE,\n",
    "#                                             n_patches=NUM_OF_PATCHES)\n",
    "# patch_embeddings = patch_embedding_layer(images)\n",
    "# patch_embeddings.shape"
   ]
  },
  {
   "cell_type": "code",
   "execution_count": 12,
   "metadata": {},
   "outputs": [],
   "source": [
    "# summary(model=patch_embedding_layer,\n",
    "#         input_size=(BATCH_SIZE, 1, 192, 192), # (batch_size, input_channels, img_width, img_height)\n",
    "#         col_names=[\"input_size\", \"output_size\", \"num_params\", \"trainable\"],\n",
    "#         col_width=20,\n",
    "#         row_settings=[\"var_names\"])"
   ]
  },
  {
   "cell_type": "code",
   "execution_count": 13,
   "metadata": {},
   "outputs": [],
   "source": [
    "# class MSABlock(nn.Module):\n",
    "#   def __init__(self,\n",
    "#             embedding_dims, # Hidden Size D in the ViT Paper Table 1\n",
    "#             num_heads,  # Heads in the ViT Paper Table 1, this is number of \n",
    "#             attn_dropout # Default to Zero as there is no dropout for the the MSA Block as per the ViT Paper\n",
    "#             ):\n",
    "#     super().__init__()\n",
    "\n",
    "#     self.embedding_dims = embedding_dims\n",
    "#     self.num_head = num_heads\n",
    "#     self.attn_dropout = attn_dropout\n",
    "\n",
    "#     self.layernorm = nn.LayerNorm(normalized_shape = embedding_dims)\n",
    "\n",
    "#     self.multiheadattention =  nn.MultiheadAttention(num_heads = num_heads,\n",
    "#                                                     embed_dim = embedding_dims,\n",
    "#                                                     dropout = attn_dropout,\n",
    "#                                                     batch_first = True,\n",
    "#                                                     )\n",
    "\n",
    "#   def forward(self, x):\n",
    "#     x = self.layernorm(x)\n",
    "#     output,_ = self.multiheadattention(query=x, key=x, value=x,need_weights=False)\n",
    "#     return output"
   ]
  },
  {
   "cell_type": "code",
   "execution_count": 14,
   "metadata": {},
   "outputs": [],
   "source": [
    "# msa_block = MSABlock(embedding_dims = EMBEDDING_DIMS,\n",
    "#                     num_heads = NUM_HEADS,\n",
    "#                     attn_dropout=ATTN_DROPOUT\n",
    "#                     )\n",
    "# print(f'Shape of the input Patch Embeddings => {list(patch_embeddings.shape)} <= [batch_size, num_patches+1, embedding_dims ]')\n",
    "# print(f'Shape of the output from MSA Block => {list(msa_block(patch_embeddings).shape)} <= [batch_size, num_patches+1, embedding_dims ]')"
   ]
  },
  {
   "cell_type": "code",
   "execution_count": 15,
   "metadata": {},
   "outputs": [],
   "source": [
    "# summary(model=msa_block,\n",
    "#         input_size=(64, NUM_OF_PATCHES+1, EMBEDDING_DIMS), # (batch_size, num_patches, embedding_dimension)\n",
    "#         col_names=[\"input_size\", \"output_size\", \"num_params\", \"trainable\"],\n",
    "#         col_width=20,\n",
    "#         row_settings=[\"var_names\"])"
   ]
  },
  {
   "cell_type": "code",
   "execution_count": 16,
   "metadata": {},
   "outputs": [],
   "source": [
    "# class MLPBlock(nn.Module):\n",
    "#   def __init__(self, embedding_dims, mlp_size, mlp_dropout):\n",
    "#     super().__init__()\n",
    "#     self.embedding_dims = embedding_dims\n",
    "#     self.mlp_size = mlp_size\n",
    "#     self.dropout = mlp_dropout\n",
    "\n",
    "#     self.layernorm = nn.LayerNorm(normalized_shape = embedding_dims)\n",
    "#     self.mlp = nn.Sequential(\n",
    "#         nn.Linear(in_features = embedding_dims, out_features = mlp_size),\n",
    "#         nn.GELU(),\n",
    "#         nn.Dropout(p = mlp_dropout),\n",
    "#         nn.Linear(in_features = mlp_size, out_features = embedding_dims),\n",
    "#         nn.Dropout(p = mlp_dropout)\n",
    "#     )\n",
    "\n",
    "#   def forward(self, x):\n",
    "#     return self.mlp(self.layernorm(x))"
   ]
  },
  {
   "cell_type": "code",
   "execution_count": 17,
   "metadata": {},
   "outputs": [],
   "source": [
    "# mlp_block = MLPBlock(embedding_dims = EMBEDDING_DIMS,\n",
    "#                 mlp_size = MLP_SIZE,\n",
    "#                 mlp_dropout = MLP_DROPOUT)\n",
    "\n",
    "# summary(model=mlp_block,\n",
    "#         input_size=(1, NUM_OF_PATCHES+1, EMBEDDING_DIMS), # (batch_size, num_patches, embedding_dimension)\n",
    "#         col_names=[\"input_size\", \"output_size\", \"num_params\", \"trainable\"],\n",
    "#         col_width=20,\n",
    "#         row_settings=[\"var_names\"])"
   ]
  },
  {
   "cell_type": "code",
   "execution_count": 18,
   "metadata": {},
   "outputs": [],
   "source": [
    "# class TransformerBlock(nn.Module):\n",
    "#     def __init__(self, embedding_dims,\n",
    "#                 mlp_dropout,\n",
    "#                 attn_dropout,\n",
    "#                 mlp_size,\n",
    "#                 num_heads,\n",
    "#                 ):\n",
    "#         super().__init__()\n",
    "\n",
    "#         self.msa_block = MSABlock(embedding_dims = embedding_dims,\n",
    "#                                                     num_heads = num_heads,\n",
    "#                                                     attn_dropout = attn_dropout)\n",
    "\n",
    "#         self.mlp_block = MLPBlock(embedding_dims = embedding_dims,\n",
    "#                                                         mlp_size = mlp_size,\n",
    "#                                                         mlp_dropout = mlp_dropout,\n",
    "#                                                         )\n",
    "#     def forward(self,x):\n",
    "#         x = self.msa_block(x) + x\n",
    "#         x = self.mlp_block(x) + x\n",
    "\n",
    "#         return x"
   ]
  },
  {
   "cell_type": "code",
   "execution_count": 19,
   "metadata": {},
   "outputs": [],
   "source": [
    "# transformer_block = TransformerBlock(embedding_dims = EMBEDDING_DIMS,\n",
    "#                                     mlp_dropout = MLP_DROPOUT,\n",
    "#                                     attn_dropout=ATTN_DROPOUT,\n",
    "#                                     mlp_size = MLP_SIZE,\n",
    "#                                     num_heads = NUM_HEADS)\n",
    "\n",
    "# print(f'Shape of the input Patch Embeddings => {list(patch_embeddings.shape)} <= [batch_size, num_patches+1, embedding_dims ]')\n",
    "# print(f'Shape of the output from Transformer Block => {list(transformer_block(patch_embeddings).shape)} <= [batch_size, num_patches+1, embedding_dims ]')"
   ]
  },
  {
   "cell_type": "code",
   "execution_count": 20,
   "metadata": {},
   "outputs": [],
   "source": [
    "# summary(model=transformer_block,\n",
    "#         input_size=(1, NUM_OF_PATCHES+1, EMBEDDING_DIMS), # (batch_size, num_patches, embedding_dimension)\n",
    "#         col_names=[\"input_size\", \"output_size\", \"num_params\", \"trainable\"],\n",
    "#         col_width=20,\n",
    "#         row_settings=[\"var_names\"])"
   ]
  },
  {
   "cell_type": "code",
   "execution_count": 21,
   "metadata": {},
   "outputs": [],
   "source": [
    "# class ViT(nn.Module):\n",
    "#     def __init__(self,\n",
    "#                 in_channels,\n",
    "#                 patch_size,\n",
    "#                 n_patches,\n",
    "#                 embedding_dims,\n",
    "#                 num_transformer_layers,\n",
    "#                 mlp_dropout,\n",
    "#                 attn_dropout,\n",
    "#                 mlp_size,\n",
    "#                 num_heads,\n",
    "#                 num_classes,\n",
    "#                 batch_size):\n",
    "#         super().__init__()\n",
    "\n",
    "#         self.patch_embedding_layer = PatchEmbeddingLayer(in_channels=in_channels, \n",
    "#                                                         patch_size=patch_size, \n",
    "#                                                         embedding_dim=embedding_dims,\n",
    "#                                                         batch_size=batch_size,\n",
    "#                                                         n_patches=n_patches)\n",
    "\n",
    "#         self.transformer_encoder = nn.Sequential(*[TransformerBlock(embedding_dims = embedding_dims,\n",
    "#                                                 mlp_dropout = mlp_dropout,\n",
    "#                                                 attn_dropout = attn_dropout,\n",
    "#                                                 mlp_size = mlp_size,\n",
    "#                                                 num_heads = num_heads) for _ in range(num_transformer_layers)])\n",
    "\n",
    "#         self.classifier = nn.Sequential(nn.LayerNorm(normalized_shape = embedding_dims),\n",
    "#                                         nn.Linear(in_features = embedding_dims,\n",
    "#                                                 out_features = num_classes))\n",
    "\n",
    "#     def forward(self, x):\n",
    "#         return self.classifier(self.transformer_encoder(self.patch_embedding_layer(x))[:, 0])"
   ]
  },
  {
   "cell_type": "code",
   "execution_count": 22,
   "metadata": {},
   "outputs": [],
   "source": [
    "# model = ViT(in_channels = IMAGE_CHANNELS,\n",
    "#         patch_size = PATCH_SIZE,\n",
    "#         n_patches = NUM_OF_PATCHES,\n",
    "#         embedding_dims = EMBEDDING_DIMS,\n",
    "#         num_transformer_layers = NUM_LAYERS, # from table 1 above\n",
    "#         mlp_dropout = MLP_DROPOUT,\n",
    "#         attn_dropout = ATTN_DROPOUT,\n",
    "#         mlp_size = MLP_SIZE,\n",
    "#         num_heads = NUM_HEADS,\n",
    "#         num_classes = NUM_CLASSES,\n",
    "#         batch_size=BATCH_SIZE)\n",
    "\n",
    "# summary(model=model,\n",
    "#         input_size=(BATCH_SIZE, IMAGE_CHANNELS, IMAGE_HEIGHT, IMAGE_WIDTH), # (batch_size, num_patches, embedding_dimension)\n",
    "#         col_names=[\"input_size\", \"output_size\", \"num_params\", \"trainable\"],\n",
    "#         col_width=20,\n",
    "#         row_settings=[\"var_names\"])"
   ]
  },
  {
   "cell_type": "code",
   "execution_count": 23,
   "metadata": {},
   "outputs": [],
   "source": [
    "# # Construct scaler for mixed precision training\n",
    "# scaler = torch.cuda.amp.GradScaler()\n",
    "# train_accuracies = []\n",
    "# test_accuracies = []\n",
    "# train_losses = []\n",
    "# test_losses = []\n",
    "\n",
    "# # Training loop\n",
    "# for epoch in trange(N_EPOCHS, desc=\"Training\"):\n",
    "#     train_loss = 0.0\n",
    "#     correct = 0\n",
    "#     total = 0\n",
    "#     batch_num = 0\n",
    "    \n",
    "#     model.train()  # Set the model to training mode\n",
    "\n",
    "#     for batch in tqdm(train_loader, desc=f\"Epoch {epoch + 1} in training\", leave=False):\n",
    "#         batch_num += 1\n",
    "#         x, y = batch\n",
    "#         x, y = x.to(device), y.to(device)\n",
    "\n",
    "#         optimizer.zero_grad()\n",
    "\n",
    "#         with torch.cuda.amp.autocast():\n",
    "#             y_hat = model(x)\n",
    "#             loss = criterion(y_hat, y)\n",
    "\n",
    "#         scaler.scale(loss).backward()\n",
    "#         scaler.step(optimizer)\n",
    "#         scaler.update()\n",
    "\n",
    "#         train_loss += loss.item()\n",
    "#         _, predicted = y_hat.max(1)\n",
    "#         total += y.size(0)\n",
    "#         correct += predicted.eq(y).sum().item()\n",
    "\n",
    "#         # if (batch_num % 100 == 0):\n",
    "#         #     print(f\"Finished {batch_num} batches out of {len(train_loader)} batches\")\n",
    "\n",
    "#     accuracy = 100 * correct / total\n",
    "#     print(f\"Epoch {epoch + 1}/{N_EPOCHS} - Loss: {train_loss / len(train_loader):.4f}, Accuracy: {accuracy:.2f}%\")\n",
    "#     train_accuracies.append(accuracy)\n",
    "#     train_losses.append(train_loss / len(train_loader))\n",
    "\n",
    "#         # Test loop\n",
    "#     with torch.no_grad():\n",
    "#         correct, total = 0, 0\n",
    "#         test_loss = 0.0\n",
    "#         for batch in tqdm(test_loader, desc=\"Testing\"):\n",
    "#             x, y = batch\n",
    "#             x, y = x.to(device), y.to(device)\n",
    "#             y_hat = model(x)\n",
    "#             loss = criterion(y_hat, y)\n",
    "#             test_loss += loss.detach().cpu().item() / len(test_loader)\n",
    "\n",
    "#             correct += torch.sum(torch.argmax(y_hat, dim=1) == y).detach().cpu().item()\n",
    "#             total += len(x)\n",
    "#         print(f\"Test loss: {test_loss:.2f}\")\n",
    "#         print(f\"Test accuracy: {correct / total * 100:.2f}%\")\n",
    "#         test_accuracies.append(correct / total * 100)\n",
    "#         test_losses.append(test_loss)"
   ]
  },
  {
   "cell_type": "code",
   "execution_count": 24,
   "metadata": {},
   "outputs": [],
   "source": [
    "# # Test loop\n",
    "# with torch.no_grad():\n",
    "#     correct, total = 0, 0\n",
    "#     test_loss = 0.0\n",
    "#     for batch in tqdm(test_loader, desc=\"Testing\"):\n",
    "#         x, y = batch\n",
    "#         x, y = x.to(device), y.to(device)\n",
    "#         y_hat = model(x)\n",
    "#         loss = criterion(y_hat, y)\n",
    "#         test_loss += loss.detach().cpu().item() / len(test_loader)\n",
    "\n",
    "#         correct += torch.sum(torch.argmax(y_hat, dim=1) == y).detach().cpu().item()\n",
    "#         total += len(x)\n",
    "#     print(f\"Test loss: {test_loss:.2f}\")\n",
    "#     print(f\"Test accuracy: {correct / total * 100:.2f}%\")"
   ]
  },
  {
   "cell_type": "code",
   "execution_count": 25,
   "metadata": {},
   "outputs": [
    {
     "name": "stderr",
     "output_type": "stream",
     "text": [
      "Training:   0%|          | 0/20 [00:00<?, ?it/s]"
     ]
    },
    {
     "name": "stdout",
     "output_type": "stream",
     "text": [
      "Epoch 1/20 - Loss: 0.6907, Accuracy: 53.05%\n"
     ]
    },
    {
     "name": "stderr",
     "output_type": "stream",
     "text": [
      "Testing: 100%|██████████| 140/140 [00:11<00:00, 11.70it/s]\n",
      "Training:   5%|▌         | 1/20 [00:27<08:50, 27.93s/it]"
     ]
    },
    {
     "name": "stdout",
     "output_type": "stream",
     "text": [
      "Test loss: 0.71\n",
      "Test accuracy: 50.21%\n"
     ]
    },
    {
     "name": "stderr",
     "output_type": "stream",
     "text": []
    },
    {
     "name": "stdout",
     "output_type": "stream",
     "text": [
      "Epoch 2/20 - Loss: 0.6476, Accuracy: 62.38%\n"
     ]
    },
    {
     "name": "stderr",
     "output_type": "stream",
     "text": [
      "Testing: 100%|██████████| 140/140 [00:12<00:00, 11.41it/s]\n",
      "Training:  10%|█         | 2/20 [00:56<08:26, 28.15s/it]"
     ]
    },
    {
     "name": "stdout",
     "output_type": "stream",
     "text": [
      "Test loss: 0.73\n",
      "Test accuracy: 55.98%\n"
     ]
    },
    {
     "name": "stderr",
     "output_type": "stream",
     "text": []
    },
    {
     "name": "stdout",
     "output_type": "stream",
     "text": [
      "Epoch 3/20 - Loss: 0.5906, Accuracy: 69.07%\n"
     ]
    },
    {
     "name": "stderr",
     "output_type": "stream",
     "text": [
      "Testing: 100%|██████████| 140/140 [00:12<00:00, 11.48it/s]\n",
      "Training:  15%|█▌        | 3/20 [01:24<08:00, 28.26s/it]"
     ]
    },
    {
     "name": "stdout",
     "output_type": "stream",
     "text": [
      "Test loss: 0.71\n",
      "Test accuracy: 58.56%\n"
     ]
    },
    {
     "name": "stderr",
     "output_type": "stream",
     "text": []
    },
    {
     "name": "stdout",
     "output_type": "stream",
     "text": [
      "Epoch 4/20 - Loss: 0.5599, Accuracy: 71.27%\n"
     ]
    },
    {
     "name": "stderr",
     "output_type": "stream",
     "text": [
      "Testing: 100%|██████████| 140/140 [00:12<00:00, 11.51it/s]\n",
      "Training:  20%|██        | 4/20 [01:52<07:31, 28.25s/it]"
     ]
    },
    {
     "name": "stdout",
     "output_type": "stream",
     "text": [
      "Test loss: 0.72\n",
      "Test accuracy: 59.74%\n"
     ]
    },
    {
     "name": "stderr",
     "output_type": "stream",
     "text": []
    },
    {
     "name": "stdout",
     "output_type": "stream",
     "text": [
      "Epoch 5/20 - Loss: 0.5428, Accuracy: 72.60%\n"
     ]
    },
    {
     "name": "stderr",
     "output_type": "stream",
     "text": [
      "Testing: 100%|██████████| 140/140 [00:12<00:00, 11.52it/s]\n",
      "Training:  25%|██▌       | 5/20 [02:21<07:07, 28.52s/it]"
     ]
    },
    {
     "name": "stdout",
     "output_type": "stream",
     "text": [
      "Test loss: 0.79\n",
      "Test accuracy: 58.20%\n"
     ]
    },
    {
     "name": "stderr",
     "output_type": "stream",
     "text": []
    },
    {
     "name": "stdout",
     "output_type": "stream",
     "text": [
      "Epoch 6/20 - Loss: 0.5225, Accuracy: 74.14%\n"
     ]
    },
    {
     "name": "stderr",
     "output_type": "stream",
     "text": [
      "Testing: 100%|██████████| 140/140 [00:12<00:00, 11.50it/s]\n",
      "Training:  30%|███       | 6/20 [02:50<06:38, 28.46s/it]"
     ]
    },
    {
     "name": "stdout",
     "output_type": "stream",
     "text": [
      "Test loss: 0.76\n",
      "Test accuracy: 59.16%\n"
     ]
    },
    {
     "name": "stderr",
     "output_type": "stream",
     "text": []
    },
    {
     "name": "stdout",
     "output_type": "stream",
     "text": [
      "Epoch 7/20 - Loss: 0.5091, Accuracy: 74.98%\n"
     ]
    },
    {
     "name": "stderr",
     "output_type": "stream",
     "text": [
      "Testing: 100%|██████████| 140/140 [00:12<00:00, 11.37it/s]\n",
      "Training:  35%|███▌      | 7/20 [03:18<06:10, 28.52s/it]"
     ]
    },
    {
     "name": "stdout",
     "output_type": "stream",
     "text": [
      "Test loss: 0.76\n",
      "Test accuracy: 58.63%\n"
     ]
    },
    {
     "name": "stderr",
     "output_type": "stream",
     "text": []
    },
    {
     "name": "stdout",
     "output_type": "stream",
     "text": [
      "Epoch 8/20 - Loss: 0.4934, Accuracy: 76.00%\n"
     ]
    },
    {
     "name": "stderr",
     "output_type": "stream",
     "text": [
      "Testing: 100%|██████████| 140/140 [00:12<00:00, 11.56it/s]\n",
      "Training:  40%|████      | 8/20 [03:47<05:41, 28.46s/it]"
     ]
    },
    {
     "name": "stdout",
     "output_type": "stream",
     "text": [
      "Test loss: 0.78\n",
      "Test accuracy: 59.83%\n"
     ]
    },
    {
     "name": "stderr",
     "output_type": "stream",
     "text": []
    },
    {
     "name": "stdout",
     "output_type": "stream",
     "text": [
      "Epoch 9/20 - Loss: 0.4784, Accuracy: 77.06%\n"
     ]
    },
    {
     "name": "stderr",
     "output_type": "stream",
     "text": [
      "Testing: 100%|██████████| 140/140 [00:12<00:00, 11.51it/s]\n",
      "Training:  45%|████▌     | 9/20 [04:15<05:12, 28.41s/it]"
     ]
    },
    {
     "name": "stdout",
     "output_type": "stream",
     "text": [
      "Test loss: 0.86\n",
      "Test accuracy: 59.40%\n"
     ]
    },
    {
     "name": "stderr",
     "output_type": "stream",
     "text": []
    },
    {
     "name": "stdout",
     "output_type": "stream",
     "text": [
      "Epoch 10/20 - Loss: 0.4625, Accuracy: 78.13%\n"
     ]
    },
    {
     "name": "stderr",
     "output_type": "stream",
     "text": [
      "Testing: 100%|██████████| 140/140 [00:12<00:00, 11.46it/s]\n",
      "Training:  50%|█████     | 10/20 [04:43<04:44, 28.41s/it]"
     ]
    },
    {
     "name": "stdout",
     "output_type": "stream",
     "text": [
      "Test loss: 0.87\n",
      "Test accuracy: 58.01%\n"
     ]
    },
    {
     "name": "stderr",
     "output_type": "stream",
     "text": []
    },
    {
     "name": "stdout",
     "output_type": "stream",
     "text": [
      "Epoch 11/20 - Loss: 0.4538, Accuracy: 78.45%\n"
     ]
    },
    {
     "name": "stderr",
     "output_type": "stream",
     "text": [
      "Testing: 100%|██████████| 140/140 [00:13<00:00, 10.08it/s]\n",
      "Training:  55%|█████▌    | 11/20 [05:15<04:25, 29.52s/it]"
     ]
    },
    {
     "name": "stdout",
     "output_type": "stream",
     "text": [
      "Test loss: 0.82\n",
      "Test accuracy: 59.70%\n"
     ]
    },
    {
     "name": "stderr",
     "output_type": "stream",
     "text": []
    },
    {
     "name": "stdout",
     "output_type": "stream",
     "text": [
      "Epoch 12/20 - Loss: 0.4403, Accuracy: 79.32%\n"
     ]
    },
    {
     "name": "stderr",
     "output_type": "stream",
     "text": [
      "Testing: 100%|██████████| 140/140 [00:14<00:00,  9.37it/s]\n",
      "Training:  60%|██████    | 12/20 [05:51<04:09, 31.24s/it]"
     ]
    },
    {
     "name": "stdout",
     "output_type": "stream",
     "text": [
      "Test loss: 0.85\n",
      "Test accuracy: 58.69%\n"
     ]
    },
    {
     "name": "stderr",
     "output_type": "stream",
     "text": []
    },
    {
     "name": "stdout",
     "output_type": "stream",
     "text": [
      "Epoch 13/20 - Loss: 0.4273, Accuracy: 80.18%\n"
     ]
    },
    {
     "name": "stderr",
     "output_type": "stream",
     "text": [
      "Testing: 100%|██████████| 140/140 [00:13<00:00, 10.14it/s]\n",
      "Training:  65%|██████▌   | 13/20 [06:32<04:00, 34.30s/it]"
     ]
    },
    {
     "name": "stdout",
     "output_type": "stream",
     "text": [
      "Test loss: 0.87\n",
      "Test accuracy: 59.49%\n"
     ]
    },
    {
     "name": "stderr",
     "output_type": "stream",
     "text": []
    },
    {
     "name": "stdout",
     "output_type": "stream",
     "text": [
      "Epoch 14/20 - Loss: 0.4081, Accuracy: 81.12%\n"
     ]
    },
    {
     "name": "stderr",
     "output_type": "stream",
     "text": [
      "Testing: 100%|██████████| 140/140 [00:13<00:00, 10.76it/s]\n",
      "Training:  70%|███████   | 14/20 [07:03<03:19, 33.21s/it]"
     ]
    },
    {
     "name": "stdout",
     "output_type": "stream",
     "text": [
      "Test loss: 0.89\n",
      "Test accuracy: 61.51%\n"
     ]
    },
    {
     "name": "stderr",
     "output_type": "stream",
     "text": []
    },
    {
     "name": "stdout",
     "output_type": "stream",
     "text": [
      "Epoch 15/20 - Loss: 0.4018, Accuracy: 81.47%\n"
     ]
    },
    {
     "name": "stderr",
     "output_type": "stream",
     "text": [
      "Testing: 100%|██████████| 140/140 [00:13<00:00, 10.62it/s]\n",
      "Training:  75%|███████▌  | 15/20 [07:33<02:41, 32.36s/it]"
     ]
    },
    {
     "name": "stdout",
     "output_type": "stream",
     "text": [
      "Test loss: 0.95\n",
      "Test accuracy: 59.34%\n"
     ]
    },
    {
     "name": "stderr",
     "output_type": "stream",
     "text": []
    },
    {
     "name": "stdout",
     "output_type": "stream",
     "text": [
      "Epoch 16/20 - Loss: 0.3922, Accuracy: 82.04%\n"
     ]
    },
    {
     "name": "stderr",
     "output_type": "stream",
     "text": [
      "Testing: 100%|██████████| 140/140 [00:12<00:00, 10.87it/s]\n",
      "Training:  80%|████████  | 16/20 [08:04<02:07, 31.94s/it]"
     ]
    },
    {
     "name": "stdout",
     "output_type": "stream",
     "text": [
      "Test loss: 0.94\n",
      "Test accuracy: 60.56%\n"
     ]
    },
    {
     "name": "stderr",
     "output_type": "stream",
     "text": []
    },
    {
     "name": "stdout",
     "output_type": "stream",
     "text": [
      "Epoch 17/20 - Loss: 0.3883, Accuracy: 82.64%\n"
     ]
    },
    {
     "name": "stderr",
     "output_type": "stream",
     "text": [
      "Testing: 100%|██████████| 140/140 [00:12<00:00, 10.89it/s]\n",
      "Training:  85%|████████▌ | 17/20 [08:35<01:35, 31.68s/it]"
     ]
    },
    {
     "name": "stdout",
     "output_type": "stream",
     "text": [
      "Test loss: 0.88\n",
      "Test accuracy: 60.58%\n"
     ]
    },
    {
     "name": "stderr",
     "output_type": "stream",
     "text": []
    },
    {
     "name": "stdout",
     "output_type": "stream",
     "text": [
      "Epoch 18/20 - Loss: 0.3719, Accuracy: 83.11%\n"
     ]
    },
    {
     "name": "stderr",
     "output_type": "stream",
     "text": [
      "Testing: 100%|██████████| 140/140 [00:12<00:00, 10.80it/s]\n",
      "Training:  90%|█████████ | 18/20 [09:06<01:02, 31.32s/it]"
     ]
    },
    {
     "name": "stdout",
     "output_type": "stream",
     "text": [
      "Test loss: 0.92\n",
      "Test accuracy: 61.10%\n"
     ]
    },
    {
     "name": "stderr",
     "output_type": "stream",
     "text": []
    },
    {
     "name": "stdout",
     "output_type": "stream",
     "text": [
      "Epoch 19/20 - Loss: 0.3594, Accuracy: 83.96%\n"
     ]
    },
    {
     "name": "stderr",
     "output_type": "stream",
     "text": [
      "Testing: 100%|██████████| 140/140 [00:14<00:00,  9.83it/s]\n",
      "Training:  95%|█████████▌| 19/20 [09:38<00:31, 31.65s/it]"
     ]
    },
    {
     "name": "stdout",
     "output_type": "stream",
     "text": [
      "Test loss: 1.00\n",
      "Test accuracy: 60.13%\n"
     ]
    },
    {
     "name": "stderr",
     "output_type": "stream",
     "text": []
    },
    {
     "name": "stdout",
     "output_type": "stream",
     "text": [
      "Epoch 20/20 - Loss: 0.3527, Accuracy: 84.31%\n"
     ]
    },
    {
     "name": "stderr",
     "output_type": "stream",
     "text": [
      "Testing: 100%|██████████| 140/140 [00:13<00:00, 10.53it/s]\n",
      "Training: 100%|██████████| 20/20 [10:11<00:00, 30.56s/it]"
     ]
    },
    {
     "name": "stdout",
     "output_type": "stream",
     "text": [
      "Test loss: 1.00\n",
      "Test accuracy: 57.87%\n"
     ]
    },
    {
     "name": "stderr",
     "output_type": "stream",
     "text": [
      "\n"
     ]
    }
   ],
   "source": [
    "from train import train\n",
    "\n",
    "train_accuracies, valid_accuracies, train_losses, valid_losses = train(model=model,\n",
    "        train_loader=train_loader,\n",
    "        valid_loader=test_loader,\n",
    "        criterion=criterion,\n",
    "        optimizer=optimizer,\n",
    "        device=device,\n",
    "        n_epochs=N_EPOCHS)"
   ]
  },
  {
   "cell_type": "code",
   "execution_count": 26,
   "metadata": {},
   "outputs": [
    {
     "data": {
      "image/png": "[encoded data removed]",
      "text/plain": [
       "<Figure size 640x480 with 1 Axes>"
      ]
     },
     "metadata": {},
     "output_type": "display_data"
    },
    {
     "data": {
      "image/png": "[encoded data removed]",
      "text/plain": [
       "<Figure size 640x480 with 1 Axes>"
      ]
     },
     "metadata": {},
     "output_type": "display_data"
    }
   ],
   "source": [
    "# import matplotlib.pyplot as plt\n",
    "\n",
    "# def plot_data(train_data, \n",
    "#                     test_data, \n",
    "#                     heading,\n",
    "#                     labels=None):\n",
    "#     if labels is None:\n",
    "#         labels = ['Train', 'Test']\n",
    "\n",
    "#     # Check if the lengths of input lists match\n",
    "#     if len(train_data) != len(test_data):\n",
    "#         raise ValueError(\"Train and test accuracy lists must have the same length.\")\n",
    "\n",
    "#     # Create x-axis values (epochs)\n",
    "#     epochs = range(1, len(train_data) + 1, 1)\n",
    "\n",
    "#     # Plot train and test accuracies\n",
    "#     plt.plot(epochs, train_data, label=labels[0])\n",
    "#     plt.plot(epochs, test_data, label=labels[1])\n",
    "\n",
    "#     # Set plot labels and legend\n",
    "#     plt.xlabel('Epoch')\n",
    "#     plt.ylabel(f'{heading}')\n",
    "#     plt.legend(loc='best')\n",
    "\n",
    "#     # Show the plot\n",
    "#     plt.grid(True)\n",
    "#     plt.title(f'{labels[0]} and {labels[1]} {heading} Over Epochs')\n",
    "#     plt.show()\n",
    "\n",
    "from utils import plot_data\n",
    "\n",
    "plot_data(train_accuracies, valid_accuracies, labels=['Train', 'Test'], heading='Accuracy')\n",
    "plot_data(train_losses, valid_losses, labels=['Train', 'Test'], heading='Loss')"
   ]
  }
 ],
 "metadata": {
  "kernelspec": {
   "display_name": "conda-torch",
   "language": "python",
   "name": "python3"
  },
  "language_info": {
   "codemirror_mode": {
    "name": "ipython",
    "version": 3
   },
   "file_extension": ".py",
   "mimetype": "text/x-python",
   "name": "python",
   "nbconvert_exporter": "python",
   "pygments_lexer": "ipython3",
   "version": "3.11.4"
  }
 },
 "nbformat": 4,
 "nbformat_minor": 2
}
