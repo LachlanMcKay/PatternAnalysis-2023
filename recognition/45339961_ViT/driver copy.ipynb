{
 "cells": [
  {
   "cell_type": "code",
   "execution_count": 1,
   "metadata": {},
   "outputs": [],
   "source": [
    "import torch\n",
    "from torchinfo import summary\n",
    "\n",
    "from torch.optim import Adam\n",
    "from torch.nn import CrossEntropyLoss\n",
    "\n",
    "from torchvision import transforms\n",
    "from predict import predict\n",
    "from train import train, test"
   ]
  },
  {
   "cell_type": "code",
   "execution_count": 3,
   "metadata": {},
   "outputs": [
    {
     "name": "stdout",
     "output_type": "stream",
     "text": [
      "Using device: cuda (NVIDIA GeForce RTX 3060 Laptop GPU)\n"
     ]
    }
   ],
   "source": [
    "PATCH_SIZE = 8 # P\n",
    "IMAGE_CROP = 240\n",
    "IMAGE_WIDTH = 224\n",
    "IMAGE_CHANNELS = 1\n",
    "BATCH_SIZE = 64\n",
    "\n",
    "device = torch.device(\"cuda\" if torch.cuda.is_available() else \"cpu\")\n",
    "print(\"Using device:\", device, f\"({torch.cuda.get_device_name(device)})\" if torch.cuda.is_available() else \"\")"
   ]
  },
  {
   "cell_type": "code",
   "execution_count": 7,
   "metadata": {},
   "outputs": [
    {
     "name": "stdout",
     "output_type": "stream",
     "text": [
      "Num iamges for train: 17200\n",
      "Num images for valid: 4320\n",
      "Num images for test: 9000\n"
     ]
    }
   ],
   "source": [
    "train_transform = transforms.Compose([\n",
    "    # transforms.CenterCrop(IMAGE_CROP),\n",
    "    transforms.Resize((IMAGE_WIDTH, IMAGE_WIDTH)),\n",
    "    transforms.Grayscale(num_output_channels=1),\n",
    "    transforms.ToTensor(),\n",
    "    transforms.Normalize(mean=[0.1155], std=[0.2224])\n",
    "])\n",
    "\n",
    "test_transform = transforms.Compose([\n",
    "    # transforms.CenterCrop(IMAGE_CROP),\n",
    "    transforms.Resize((IMAGE_WIDTH, IMAGE_WIDTH)),\n",
    "    transforms.Grayscale(num_output_channels=1),\n",
    "    transforms.ToTensor(),\n",
    "    transforms.Normalize(mean=[0.1167], std=[0.2228])\n",
    "])\n",
    "\n",
    "from dataset import create_dataloaders\n",
    "root_dir = \"C:/Users/Jacqu/Downloads/AD_NC\"\n",
    "train_loader, valid_loader, test_loader = create_dataloaders(root_dir, train_transform, test_transform, batch_size=BATCH_SIZE, datasplit=0.8)\n",
    "print(f\"Num iamges for train: {len(train_loader.dataset)}\")\n",
    "print(f\"Num images for valid: {len(valid_loader.dataset)}\")\n",
    "print(f\"Num images for test: {len(test_loader.dataset)}\")"
   ]
  }
 ],
 "metadata": {
  "kernelspec": {
   "display_name": "conda-torch",
   "language": "python",
   "name": "python3"
  },
  "language_info": {
   "codemirror_mode": {
    "name": "ipython",
    "version": 3
   },
   "file_extension": ".py",
   "mimetype": "text/x-python",
   "name": "python",
   "nbconvert_exporter": "python",
   "pygments_lexer": "ipython3",
   "version": "3.11.4"
  }
 },
 "nbformat": 4,
 "nbformat_minor": 2
}
