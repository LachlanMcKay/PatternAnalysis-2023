{
 "cells": [
  {
   "cell_type": "code",
   "execution_count": 1,
   "metadata": {},
   "outputs": [
    {
     "data": {
      "text/plain": [
       "<torch._C.Generator at 0x180942d8250>"
      ]
     },
     "execution_count": 1,
     "metadata": {},
     "output_type": "execute_result"
    }
   ],
   "source": [
    "import torch\n",
    "from torch import nn\n",
    "from torchinfo import summary\n",
    "import numpy as np\n",
    "\n",
    "from tqdm import tqdm, trange\n",
    "\n",
    "import torch\n",
    "import torch.nn as nn\n",
    "from torch.optim import Adam\n",
    "from torch.nn import CrossEntropyLoss\n",
    "from torch.utils.data import DataLoader\n",
    "\n",
    "from torchvision.transforms import ToTensor\n",
    "from torchvision.datasets.mnist import MNIST\n",
    "\n",
    "import os\n",
    "import torch\n",
    "from torchvision import transforms, datasets\n",
    "from torch.utils.data import DataLoader, Dataset\n",
    "import matplotlib.pyplot as plt\n",
    "from PIL import Image\n",
    "\n",
    "np.random.seed(0)\n",
    "torch.manual_seed(0)"
   ]
  },
  {
   "cell_type": "code",
   "execution_count": 2,
   "metadata": {},
   "outputs": [],
   "source": [
    "class ADNIDataset(Dataset):\n",
    "    def __init__(self, root_dir, transform=None):\n",
    "        self.root_dir = root_dir\n",
    "        self.transform = transform\n",
    "\n",
    "        # Get a list of subdirectories (labels) in the root directory\n",
    "        self.labels = sorted(os.listdir(root_dir))\n",
    "\n",
    "        # Create a mapping from label (subdirectory) to an integer\n",
    "        self.label_to_idx = {label: idx for idx, label in enumerate(self.labels)}\n",
    "\n",
    "        self.data = []\n",
    "        self.targets = []\n",
    "        self.names = []\n",
    "\n",
    "        # Create a dictionary to store the count of images for each class\n",
    "        self.class_counts = {label: 0 for label in self.labels}\n",
    "\n",
    "        # Iterate through subdirectories\n",
    "        for label in self.labels:\n",
    "            label_dir = os.path.join(root_dir, label)\n",
    "            \n",
    "            # Check if it's a directory\n",
    "            if not os.path.isdir(label_dir):\n",
    "                continue\n",
    "\n",
    "            # Get a list of image files in the subdirectory\n",
    "            image_files = [f for f in os.listdir(label_dir) if f.lower().endswith((\".jpg\", \".jpeg\", \".png\", \".gif\"))]\n",
    "\n",
    "            # Update class counts and append image paths and their corresponding labels\n",
    "            for image_file in image_files:\n",
    "                image_path = os.path.join(label_dir, image_file)\n",
    "                self.data.append(image_path)\n",
    "                self.targets.append(self.label_to_idx[label])\n",
    "                self.names.append(image_file)\n",
    "                self.class_counts[label] += 1\n",
    "\n",
    "    def __len__(self):\n",
    "        return len(self.data)\n",
    "\n",
    "    def __getitem__(self, idx):\n",
    "        image_path = self.data[idx]\n",
    "        image = Image.open(image_path)\n",
    "\n",
    "        if self.transform:\n",
    "            image = self.transform(image)\n",
    "\n",
    "        label = self.targets[idx]\n",
    "        name = self.names[idx]\n",
    "\n",
    "        return image, label, name\n",
    "\n",
    "    def get_class_counts(self):\n",
    "        return self.class_counts\n",
    "    \n",
    "    def get_labels(self):\n",
    "        return self.labels\n",
    "    \n",
    "    def get_names(self):\n",
    "        return self.names\n",
    "\n",
    "def create_dataloaders(dir, batch_size, shuffle=True, transform=None, num_workers=4):\n",
    "    train_path = os.path.join(dir, \"train\")\n",
    "    test_path = os.path.join(dir, \"test\")\n",
    "\n",
    "    train_dataset = ADNIDataset(train_path, transform=transform)\n",
    "    test_dataset = ADNIDataset(test_path, transform=transform)\n",
    "\n",
    "    train_loader = DataLoader(train_dataset, batch_size=batch_size, shuffle=False, drop_last=True)\n",
    "    test_loader = DataLoader(test_dataset, batch_size=batch_size, shuffle=False, drop_last=True)\n",
    "\n",
    "    return train_loader, test_loader"
   ]
  },
  {
   "cell_type": "code",
   "execution_count": 3,
   "metadata": {},
   "outputs": [],
   "source": [
    "PATCH_SIZE = 12 # P\n",
    "IMAGE_WIDTH = 192\n",
    "IMAGE_HEIGHT = IMAGE_WIDTH\n",
    "IMAGE_CHANNELS = 1\n",
    "BATCH_SIZE = 64\n",
    "NUM_HEADS = 12\n",
    "NUM_LAYERS = 12\n",
    "MLP_DROPOUT = 0.1\n",
    "ATTN_DROPOUT = 0.0\n",
    "MLP_SIZE = 3072\n",
    "NUM_CLASSES = 2\n",
    "\n",
    "# EMBEDDING_DIMS = IMAGE_CHANNELS * PATCH_SIZE**2 # Hidden Size D\n",
    "EMBEDDING_DIMS = 24\n",
    "NUM_OF_PATCHES = int((IMAGE_WIDTH * IMAGE_HEIGHT) / PATCH_SIZE**2) # N\n",
    "\n",
    "#the image width and image height should be divisible by patch size. This is a check to see that.\n",
    "\n",
    "assert IMAGE_WIDTH % PATCH_SIZE == 0 and IMAGE_HEIGHT % PATCH_SIZE ==0 , print(\"Image Width is not divisible by patch size\")"
   ]
  },
  {
   "cell_type": "code",
   "execution_count": 4,
   "metadata": {},
   "outputs": [],
   "source": [
    "train_transform = transforms.Compose([\n",
    "    transforms.CenterCrop((IMAGE_WIDTH, IMAGE_WIDTH)),\n",
    "    transforms.Grayscale(num_output_channels=1),\n",
    "    # transforms.RandomRotation(degrees=90),\n",
    "    transforms.ToTensor(),\n",
    "])\n",
    "\n",
    "test_transform = transforms.Compose([\n",
    "    transforms.CenterCrop((IMAGE_WIDTH, IMAGE_WIDTH)),\n",
    "    transforms.Grayscale(num_output_channels=1),\n",
    "    transforms.ToTensor(),\n",
    "])\n",
    "\n",
    "# train_loader, test_loader = create_dataloaders(\"D:/AD_NC\", transform=transform, batch_size=BATCH_SIZE)\n",
    "train_data = datasets.ImageFolder(root=\"D:/AD_NC/train\", transform=train_transform)\n",
    "test_data = datasets.ImageFolder(root=\"D:/AD_NC/test\", transform=test_transform)\n",
    "\n",
    "train_loader = DataLoader(train_data, batch_size=BATCH_SIZE, shuffle=True, drop_last=True)\n",
    "test_loader = DataLoader(test_data, batch_size=BATCH_SIZE, shuffle=False, drop_last=True)\n",
    "\n",
    "# print(len(test_loader))\n",
    "# print(train_loader.dataset.get_class_counts())\n",
    "# print(test_loader.dataset.get_class_counts())"
   ]
  },
  {
   "cell_type": "code",
   "execution_count": 5,
   "metadata": {},
   "outputs": [
    {
     "name": "stdout",
     "output_type": "stream",
     "text": [
      "64\n",
      "(1, 192, 192)\n"
     ]
    },
    {
     "data": {
      "image/png": "[encoded data removed]",
      "text/plain": [
       "<Figure size 640x480 with 1 Axes>"
      ]
     },
     "metadata": {},
     "output_type": "display_data"
    }
   ],
   "source": [
    "images, labels = next(iter(train_loader))\n",
    "image = images[0]\n",
    "imagesnp = images.numpy()\n",
    "print(len(images))\n",
    "print(imagesnp[0].shape)\n",
    "# print(names[0])\n",
    "plt.imshow(imagesnp[0][0], cmap='gray')\n",
    "plt.axis(\"off\")\n",
    "plt.show()"
   ]
  },
  {
   "cell_type": "code",
   "execution_count": 6,
   "metadata": {},
   "outputs": [
    {
     "name": "stdout",
     "output_type": "stream",
     "text": [
      "Shape of embeddings through the conv layer -> [1, 24, 16, 16] <- [batch_size, num_of_patch_rows, num_patch_cols embedding_dims]\n",
      "Shape of embeddings through the flatten layer -> [1, 256, 24] <- [batch_size, num_of_patches, embedding_dims]\n"
     ]
    }
   ],
   "source": [
    "conv_layer = nn.Conv2d(in_channels = IMAGE_CHANNELS, out_channels = EMBEDDING_DIMS, kernel_size = PATCH_SIZE, stride = PATCH_SIZE)\n",
    "\n",
    "# Pass the image through the convolution layer\n",
    "image_through_conv = conv_layer(image.unsqueeze(0))\n",
    "print(f'Shape of embeddings through the conv layer -> {list(image_through_conv.shape)} <- [batch_size, num_of_patch_rows, num_patch_cols embedding_dims]')\n",
    "\n",
    "# Permute the dimensions of image_through_conv to match the expected shape\n",
    "image_through_conv = image_through_conv.permute((0, 2, 3, 1))\n",
    "\n",
    "# Create a flatten layer using nn.Flatten\n",
    "flatten_layer = nn.Flatten(start_dim=1, end_dim=2)\n",
    "\n",
    "# Pass the image_through_conv through the flatten layer\n",
    "image_through_conv_and_flatten = flatten_layer(image_through_conv)\n",
    "\n",
    "# Print the shape of the embedded image\n",
    "print(f'Shape of embeddings through the flatten layer -> {list(image_through_conv_and_flatten.shape)} <- [batch_size, num_of_patches, embedding_dims]')\n",
    "\n",
    "# Assign the embedded image to a variable\n",
    "embedded_image = image_through_conv_and_flatten"
   ]
  },
  {
   "cell_type": "code",
   "execution_count": 7,
   "metadata": {},
   "outputs": [
    {
     "name": "stdout",
     "output_type": "stream",
     "text": [
      "Shape of class_token_embeddings --> [1, 1, 24] <-- [batch_size, 1, emdedding_dims]\n",
      "\n",
      "Shape of image embeddings with class_token_embeddings --> [1, 257, 24] <-- [batch_size, num_of_patches+1, embeddiing_dims]\n",
      "\n",
      "Shape of position_embeddings --> [1, 257, 24] <-- [batch_size, num_patches+1, embeddings_dims]\n",
      "\n",
      "Shape of final_embeddings --> [1, 257, 24] <-- [batch_size, num_patches+1, embeddings_dims]\n"
     ]
    }
   ],
   "source": [
    "class_token_embeddings = nn.Parameter(torch.rand((1, 1, EMBEDDING_DIMS), requires_grad  = True))\n",
    "print(f'Shape of class_token_embeddings --> {list(class_token_embeddings.shape)} <-- [batch_size, 1, emdedding_dims]')\n",
    "\n",
    "embedded_image_with_class_token_embeddings = torch.cat((class_token_embeddings, embedded_image), dim = 1)\n",
    "print(f'\\nShape of image embeddings with class_token_embeddings --> {list(embedded_image_with_class_token_embeddings.shape)} <-- [batch_size, num_of_patches+1, embeddiing_dims]')\n",
    "\n",
    "position_embeddings = nn.Parameter(torch.rand((1, NUM_OF_PATCHES+1, EMBEDDING_DIMS ), requires_grad = True ))\n",
    "print(f'\\nShape of position_embeddings --> {list(position_embeddings.shape)} <-- [batch_size, num_patches+1, embeddings_dims]')\n",
    "\n",
    "final_embeddings = embedded_image_with_class_token_embeddings + position_embeddings\n",
    "print(f'\\nShape of final_embeddings --> {list(final_embeddings.shape)} <-- [batch_size, num_patches+1, embeddings_dims]')"
   ]
  },
  {
   "cell_type": "code",
   "execution_count": 8,
   "metadata": {},
   "outputs": [],
   "source": [
    "class PatchEmbeddingLayer(nn.Module):\n",
    "    def __init__(self, in_channels, patch_size, embedding_dim):\n",
    "        super().__init__()\n",
    "        self.patch_size = patch_size\n",
    "        self.embedding_dim = embedding_dim\n",
    "        self.in_channels = in_channels\n",
    "        self.conv_layer = nn.Conv2d(in_channels=in_channels, out_channels=embedding_dim, kernel_size=patch_size, stride=patch_size)\n",
    "        self.flatten_layer = nn.Flatten(start_dim=1, end_dim=2)\n",
    "        self.class_token_embeddings = nn.Parameter(torch.rand((BATCH_SIZE, 1, EMBEDDING_DIMS), requires_grad=True))\n",
    "        self.position_embeddings = nn.Parameter(torch.rand((1, NUM_OF_PATCHES + 1, EMBEDDING_DIMS), requires_grad=True))\n",
    "\n",
    "    def forward(self, x):\n",
    "        output = torch.cat((self.class_token_embeddings, self.flatten_layer(self.conv_layer(x).permute((0, 2, 3, 1)))), dim=1) + self.position_embeddings\n",
    "        return output"
   ]
  },
  {
   "cell_type": "code",
   "execution_count": 9,
   "metadata": {},
   "outputs": [
    {
     "data": {
      "text/plain": [
       "torch.Size([64, 257, 24])"
      ]
     },
     "execution_count": 9,
     "metadata": {},
     "output_type": "execute_result"
    }
   ],
   "source": [
    "patch_embedding_layer = PatchEmbeddingLayer(in_channels=IMAGE_CHANNELS, patch_size=PATCH_SIZE, embedding_dim=EMBEDDING_DIMS)\n",
    "patch_embeddings = patch_embedding_layer(images)\n",
    "patch_embeddings.shape"
   ]
  },
  {
   "cell_type": "code",
   "execution_count": 10,
   "metadata": {},
   "outputs": [
    {
     "data": {
      "text/plain": [
       "=============================================================================================================================\n",
       "Layer (type (var_name))                       Input Shape          Output Shape         Param #              Trainable\n",
       "=============================================================================================================================\n",
       "PatchEmbeddingLayer (PatchEmbeddingLayer)     [64, 1, 192, 192]    [64, 257, 24]        7,704                True\n",
       "├─Conv2d (conv_layer)                         [64, 1, 192, 192]    [64, 24, 16, 16]     3,480                True\n",
       "├─Flatten (flatten_layer)                     [64, 16, 16, 24]     [64, 256, 24]        --                   --\n",
       "=============================================================================================================================\n",
       "Total params: 11,184\n",
       "Trainable params: 11,184\n",
       "Non-trainable params: 0\n",
       "Total mult-adds (Units.MEGABYTES): 57.02\n",
       "=============================================================================================================================\n",
       "Input size (MB): 9.44\n",
       "Forward/backward pass size (MB): 3.15\n",
       "Params size (MB): 0.01\n",
       "Estimated Total Size (MB): 12.60\n",
       "============================================================================================================================="
      ]
     },
     "execution_count": 10,
     "metadata": {},
     "output_type": "execute_result"
    }
   ],
   "source": [
    "summary(model=patch_embedding_layer,\n",
    "        input_size=(BATCH_SIZE, 1, 192, 192), # (batch_size, input_channels, img_width, img_height)\n",
    "        col_names=[\"input_size\", \"output_size\", \"num_params\", \"trainable\"],\n",
    "        col_width=20,\n",
    "        row_settings=[\"var_names\"])"
   ]
  },
  {
   "cell_type": "code",
   "execution_count": 11,
   "metadata": {},
   "outputs": [],
   "source": [
    "class MSABlock(nn.Module):\n",
    "  def __init__(self,\n",
    "            embedding_dims = EMBEDDING_DIMS, # Hidden Size D in the ViT Paper Table 1\n",
    "            num_heads = NUM_HEADS,  # Heads in the ViT Paper Table 1, this is number of \n",
    "            attn_dropout = 0.0 # Default to Zero as there is no dropout for the the MSA Block as per the ViT Paper\n",
    "            ):\n",
    "    super().__init__()\n",
    "\n",
    "    self.embedding_dims = embedding_dims\n",
    "    self.num_head = num_heads\n",
    "    self.attn_dropout = attn_dropout\n",
    "\n",
    "    self.layernorm = nn.LayerNorm(normalized_shape = embedding_dims)\n",
    "\n",
    "    self.multiheadattention =  nn.MultiheadAttention(num_heads = num_heads,\n",
    "                                                    embed_dim = embedding_dims,\n",
    "                                                    dropout = attn_dropout,\n",
    "                                                    batch_first = True,\n",
    "                                                    )\n",
    "\n",
    "  def forward(self, x):\n",
    "    x = self.layernorm(x)\n",
    "    output,_ = self.multiheadattention(query=x, key=x, value=x,need_weights=False)\n",
    "    return output"
   ]
  },
  {
   "cell_type": "code",
   "execution_count": 12,
   "metadata": {},
   "outputs": [
    {
     "name": "stdout",
     "output_type": "stream",
     "text": [
      "Shape of the input Patch Embeddings => [64, 257, 24] <= [batch_size, num_patches+1, embedding_dims ]\n",
      "Shape of the output from MSA Block => [64, 257, 24] <= [batch_size, num_patches+1, embedding_dims ]\n"
     ]
    }
   ],
   "source": [
    "msa_block = MSABlock(embedding_dims = EMBEDDING_DIMS,\n",
    "                    num_heads = NUM_HEADS\n",
    "                    )\n",
    "print(f'Shape of the input Patch Embeddings => {list(patch_embeddings.shape)} <= [batch_size, num_patches+1, embedding_dims ]')\n",
    "print(f'Shape of the output from MSA Block => {list(msa_block(patch_embeddings).shape)} <= [batch_size, num_patches+1, embedding_dims ]')"
   ]
  },
  {
   "cell_type": "code",
   "execution_count": 13,
   "metadata": {},
   "outputs": [
    {
     "data": {
      "text/plain": [
       "=============================================================================================================================\n",
       "Layer (type (var_name))                       Input Shape          Output Shape         Param #              Trainable\n",
       "=============================================================================================================================\n",
       "MSABlock (MSABlock)                           [64, 257, 24]        [64, 257, 24]        --                   True\n",
       "├─LayerNorm (layernorm)                       [64, 257, 24]        [64, 257, 24]        48                   True\n",
       "├─MultiheadAttention (multiheadattention)     --                   [64, 257, 24]        2,400                True\n",
       "=============================================================================================================================\n",
       "Total params: 2,448\n",
       "Trainable params: 2,448\n",
       "Non-trainable params: 0\n",
       "Total mult-adds (Units.MEGABYTES): 0.00\n",
       "=============================================================================================================================\n",
       "Input size (MB): 1.58\n",
       "Forward/backward pass size (MB): 3.16\n",
       "Params size (MB): 0.00\n",
       "Estimated Total Size (MB): 4.74\n",
       "============================================================================================================================="
      ]
     },
     "execution_count": 13,
     "metadata": {},
     "output_type": "execute_result"
    }
   ],
   "source": [
    "summary(model=msa_block,\n",
    "        input_size=(64, NUM_OF_PATCHES+1, EMBEDDING_DIMS), # (batch_size, num_patches, embedding_dimension)\n",
    "        col_names=[\"input_size\", \"output_size\", \"num_params\", \"trainable\"],\n",
    "        col_width=20,\n",
    "        row_settings=[\"var_names\"])"
   ]
  },
  {
   "cell_type": "code",
   "execution_count": 14,
   "metadata": {},
   "outputs": [],
   "source": [
    "class MLPBlock(nn.Module):\n",
    "  def __init__(self, embedding_dims, mlp_size, mlp_dropout):\n",
    "    super().__init__()\n",
    "    self.embedding_dims = embedding_dims\n",
    "    self.mlp_size = mlp_size\n",
    "    self.dropout = mlp_dropout\n",
    "\n",
    "    self.layernorm = nn.LayerNorm(normalized_shape = embedding_dims)\n",
    "    self.mlp = nn.Sequential(\n",
    "        nn.Linear(in_features = embedding_dims, out_features = mlp_size),\n",
    "        nn.GELU(),\n",
    "        nn.Dropout(p = mlp_dropout),\n",
    "        nn.Linear(in_features = mlp_size, out_features = embedding_dims),\n",
    "        nn.Dropout(p = mlp_dropout)\n",
    "    )\n",
    "\n",
    "  def forward(self, x):\n",
    "    return self.mlp(self.layernorm(x))"
   ]
  },
  {
   "cell_type": "code",
   "execution_count": 15,
   "metadata": {},
   "outputs": [
    {
     "data": {
      "text/plain": [
       "========================================================================================================================\n",
       "Layer (type (var_name))                  Input Shape          Output Shape         Param #              Trainable\n",
       "========================================================================================================================\n",
       "MLPBlock (MLPBlock)                      [1, 257, 24]         [1, 257, 24]         --                   True\n",
       "├─LayerNorm (layernorm)                  [1, 257, 24]         [1, 257, 24]         48                   True\n",
       "├─Sequential (mlp)                       [1, 257, 24]         [1, 257, 24]         --                   True\n",
       "│    └─Linear (0)                        [1, 257, 24]         [1, 257, 3072]       76,800               True\n",
       "│    └─GELU (1)                          [1, 257, 3072]       [1, 257, 3072]       --                   --\n",
       "│    └─Dropout (2)                       [1, 257, 3072]       [1, 257, 3072]       --                   --\n",
       "│    └─Linear (3)                        [1, 257, 3072]       [1, 257, 24]         73,752               True\n",
       "│    └─Dropout (4)                       [1, 257, 24]         [1, 257, 24]         --                   --\n",
       "========================================================================================================================\n",
       "Total params: 150,600\n",
       "Trainable params: 150,600\n",
       "Non-trainable params: 0\n",
       "Total mult-adds (Units.MEGABYTES): 0.15\n",
       "========================================================================================================================\n",
       "Input size (MB): 0.02\n",
       "Forward/backward pass size (MB): 6.41\n",
       "Params size (MB): 0.60\n",
       "Estimated Total Size (MB): 7.04\n",
       "========================================================================================================================"
      ]
     },
     "execution_count": 15,
     "metadata": {},
     "output_type": "execute_result"
    }
   ],
   "source": [
    "mlp_block = MLPBlock(embedding_dims = EMBEDDING_DIMS,\n",
    "                mlp_size = 3072,\n",
    "                mlp_dropout = 0.1)\n",
    "\n",
    "summary(model=mlp_block,\n",
    "        input_size=(1, NUM_OF_PATCHES+1, EMBEDDING_DIMS), # (batch_size, num_patches, embedding_dimension)\n",
    "        col_names=[\"input_size\", \"output_size\", \"num_params\", \"trainable\"],\n",
    "        col_width=20,\n",
    "        row_settings=[\"var_names\"])"
   ]
  },
  {
   "cell_type": "code",
   "execution_count": 16,
   "metadata": {},
   "outputs": [],
   "source": [
    "class TransformerBlock(nn.Module):\n",
    "    def __init__(self, embedding_dims = EMBEDDING_DIMS,\n",
    "                mlp_dropout=0.1,\n",
    "                attn_dropout=0.0,\n",
    "                mlp_size = 3072,\n",
    "                num_heads = 12,\n",
    "                ):\n",
    "        super().__init__()\n",
    "\n",
    "        self.msa_block = MSABlock(embedding_dims = embedding_dims,\n",
    "                                                    num_heads = num_heads,\n",
    "                                                    attn_dropout = attn_dropout)\n",
    "\n",
    "        self.mlp_block = MLPBlock(embedding_dims = embedding_dims,\n",
    "                                                        mlp_size = mlp_size,\n",
    "                                                        mlp_dropout = mlp_dropout,\n",
    "                                                        )\n",
    "    def forward(self,x):\n",
    "        x = self.msa_block(x) + x\n",
    "        x = self.mlp_block(x) + x\n",
    "\n",
    "        return x"
   ]
  },
  {
   "cell_type": "code",
   "execution_count": 17,
   "metadata": {},
   "outputs": [
    {
     "name": "stdout",
     "output_type": "stream",
     "text": [
      "Shape of the input Patch Embeddings => [64, 257, 24] <= [batch_size, num_patches+1, embedding_dims ]\n",
      "Shape of the output from Transformer Block => [64, 257, 24] <= [batch_size, num_patches+1, embedding_dims ]\n"
     ]
    }
   ],
   "source": [
    "transformer_block = TransformerBlock(embedding_dims = EMBEDDING_DIMS,\n",
    "                                    mlp_dropout = MLP_DROPOUT,\n",
    "                                    attn_dropout=ATTN_DROPOUT,\n",
    "                                    mlp_size = MLP_SIZE,\n",
    "                                    num_heads = NUM_HEADS)\n",
    "\n",
    "print(f'Shape of the input Patch Embeddings => {list(patch_embeddings.shape)} <= [batch_size, num_patches+1, embedding_dims ]')\n",
    "print(f'Shape of the output from Transformer Block => {list(transformer_block(patch_embeddings).shape)} <= [batch_size, num_patches+1, embedding_dims ]')"
   ]
  },
  {
   "cell_type": "code",
   "execution_count": 18,
   "metadata": {},
   "outputs": [
    {
     "data": {
      "text/plain": [
       "==================================================================================================================================\n",
       "Layer (type (var_name))                            Input Shape          Output Shape         Param #              Trainable\n",
       "==================================================================================================================================\n",
       "TransformerBlock (TransformerBlock)                [1, 257, 24]         [1, 257, 24]         --                   True\n",
       "├─MSABlock (msa_block)                             [1, 257, 24]         [1, 257, 24]         --                   True\n",
       "│    └─LayerNorm (layernorm)                       [1, 257, 24]         [1, 257, 24]         48                   True\n",
       "│    └─MultiheadAttention (multiheadattention)     --                   [1, 257, 24]         2,400                True\n",
       "├─MLPBlock (mlp_block)                             [1, 257, 24]         [1, 257, 24]         --                   True\n",
       "│    └─LayerNorm (layernorm)                       [1, 257, 24]         [1, 257, 24]         48                   True\n",
       "│    └─Sequential (mlp)                            [1, 257, 24]         [1, 257, 24]         --                   True\n",
       "│    │    └─Linear (0)                             [1, 257, 24]         [1, 257, 3072]       76,800               True\n",
       "│    │    └─GELU (1)                               [1, 257, 3072]       [1, 257, 3072]       --                   --\n",
       "│    │    └─Dropout (2)                            [1, 257, 3072]       [1, 257, 3072]       --                   --\n",
       "│    │    └─Linear (3)                             [1, 257, 3072]       [1, 257, 24]         73,752               True\n",
       "│    │    └─Dropout (4)                            [1, 257, 24]         [1, 257, 24]         --                   --\n",
       "==================================================================================================================================\n",
       "Total params: 153,048\n",
       "Trainable params: 153,048\n",
       "Non-trainable params: 0\n",
       "Total mult-adds (Units.MEGABYTES): 0.15\n",
       "==================================================================================================================================\n",
       "Input size (MB): 0.02\n",
       "Forward/backward pass size (MB): 6.46\n",
       "Params size (MB): 0.60\n",
       "Estimated Total Size (MB): 7.09\n",
       "=================================================================================================================================="
      ]
     },
     "execution_count": 18,
     "metadata": {},
     "output_type": "execute_result"
    }
   ],
   "source": [
    "summary(model=transformer_block,\n",
    "        input_size=(1, NUM_OF_PATCHES+1, EMBEDDING_DIMS), # (batch_size, num_patches, embedding_dimension)\n",
    "        col_names=[\"input_size\", \"output_size\", \"num_params\", \"trainable\"],\n",
    "        col_width=20,\n",
    "        row_settings=[\"var_names\"])"
   ]
  },
  {
   "cell_type": "code",
   "execution_count": 19,
   "metadata": {},
   "outputs": [],
   "source": [
    "class ViT(nn.Module):\n",
    "    def __init__(self, img_size = IMAGE_HEIGHT,\n",
    "                in_channels = IMAGE_CHANNELS,\n",
    "                patch_size = PATCH_SIZE,\n",
    "                embedding_dims = EMBEDDING_DIMS,\n",
    "                num_transformer_layers = NUM_LAYERS, # from table 1 above\n",
    "                mlp_dropout = MLP_DROPOUT,\n",
    "                attn_dropout = ATTN_DROPOUT,\n",
    "                mlp_size = MLP_SIZE,\n",
    "                num_heads = NUM_HEADS,\n",
    "                num_classes = NUM_CLASSES):\n",
    "        super().__init__()\n",
    "\n",
    "        self.patch_embedding_layer = PatchEmbeddingLayer(in_channels = in_channels,\n",
    "                                                        patch_size=patch_size,\n",
    "                                                        embedding_dim = embedding_dims)\n",
    "\n",
    "        self.transformer_encoder = nn.Sequential(*[TransformerBlock(embedding_dims = embedding_dims,\n",
    "                                                mlp_dropout = mlp_dropout,\n",
    "                                                attn_dropout = attn_dropout,\n",
    "                                                mlp_size = mlp_size,\n",
    "                                                num_heads = num_heads) for _ in range(num_transformer_layers)])\n",
    "\n",
    "        self.classifier = nn.Sequential(nn.LayerNorm(normalized_shape = embedding_dims),\n",
    "                                        nn.Linear(in_features = embedding_dims,\n",
    "                                                out_features = num_classes))\n",
    "\n",
    "    def forward(self, x):\n",
    "        return self.classifier(self.transformer_encoder(self.patch_embedding_layer(x))[:, 0])"
   ]
  },
  {
   "cell_type": "code",
   "execution_count": 20,
   "metadata": {},
   "outputs": [
    {
     "data": {
      "text/plain": [
       "============================================================================================================================================\n",
       "Layer (type (var_name))                                      Input Shape          Output Shape         Param #              Trainable\n",
       "============================================================================================================================================\n",
       "ViT (ViT)                                                    [64, 1, 192, 192]    [64, 2]              --                   True\n",
       "├─PatchEmbeddingLayer (patch_embedding_layer)                [64, 1, 192, 192]    [64, 257, 24]        7,704                True\n",
       "│    └─Conv2d (conv_layer)                                   [64, 1, 192, 192]    [64, 24, 16, 16]     3,480                True\n",
       "│    └─Flatten (flatten_layer)                               [64, 16, 16, 24]     [64, 256, 24]        --                   --\n",
       "├─Sequential (transformer_encoder)                           [64, 257, 24]        [64, 257, 24]        --                   True\n",
       "│    └─TransformerBlock (0)                                  [64, 257, 24]        [64, 257, 24]        --                   True\n",
       "│    │    └─MSABlock (msa_block)                             [64, 257, 24]        [64, 257, 24]        2,448                True\n",
       "│    │    └─MLPBlock (mlp_block)                             [64, 257, 24]        [64, 257, 24]        150,600              True\n",
       "│    └─TransformerBlock (1)                                  [64, 257, 24]        [64, 257, 24]        --                   True\n",
       "│    │    └─MSABlock (msa_block)                             [64, 257, 24]        [64, 257, 24]        2,448                True\n",
       "│    │    └─MLPBlock (mlp_block)                             [64, 257, 24]        [64, 257, 24]        150,600              True\n",
       "│    └─TransformerBlock (2)                                  [64, 257, 24]        [64, 257, 24]        --                   True\n",
       "│    │    └─MSABlock (msa_block)                             [64, 257, 24]        [64, 257, 24]        2,448                True\n",
       "│    │    └─MLPBlock (mlp_block)                             [64, 257, 24]        [64, 257, 24]        150,600              True\n",
       "│    └─TransformerBlock (3)                                  [64, 257, 24]        [64, 257, 24]        --                   True\n",
       "│    │    └─MSABlock (msa_block)                             [64, 257, 24]        [64, 257, 24]        2,448                True\n",
       "│    │    └─MLPBlock (mlp_block)                             [64, 257, 24]        [64, 257, 24]        150,600              True\n",
       "│    └─TransformerBlock (4)                                  [64, 257, 24]        [64, 257, 24]        --                   True\n",
       "│    │    └─MSABlock (msa_block)                             [64, 257, 24]        [64, 257, 24]        2,448                True\n",
       "│    │    └─MLPBlock (mlp_block)                             [64, 257, 24]        [64, 257, 24]        150,600              True\n",
       "│    └─TransformerBlock (5)                                  [64, 257, 24]        [64, 257, 24]        --                   True\n",
       "│    │    └─MSABlock (msa_block)                             [64, 257, 24]        [64, 257, 24]        2,448                True\n",
       "│    │    └─MLPBlock (mlp_block)                             [64, 257, 24]        [64, 257, 24]        150,600              True\n",
       "│    └─TransformerBlock (6)                                  [64, 257, 24]        [64, 257, 24]        --                   True\n",
       "│    │    └─MSABlock (msa_block)                             [64, 257, 24]        [64, 257, 24]        2,448                True\n",
       "│    │    └─MLPBlock (mlp_block)                             [64, 257, 24]        [64, 257, 24]        150,600              True\n",
       "│    └─TransformerBlock (7)                                  [64, 257, 24]        [64, 257, 24]        --                   True\n",
       "│    │    └─MSABlock (msa_block)                             [64, 257, 24]        [64, 257, 24]        2,448                True\n",
       "│    │    └─MLPBlock (mlp_block)                             [64, 257, 24]        [64, 257, 24]        150,600              True\n",
       "│    └─TransformerBlock (8)                                  [64, 257, 24]        [64, 257, 24]        --                   True\n",
       "│    │    └─MSABlock (msa_block)                             [64, 257, 24]        [64, 257, 24]        2,448                True\n",
       "│    │    └─MLPBlock (mlp_block)                             [64, 257, 24]        [64, 257, 24]        150,600              True\n",
       "│    └─TransformerBlock (9)                                  [64, 257, 24]        [64, 257, 24]        --                   True\n",
       "│    │    └─MSABlock (msa_block)                             [64, 257, 24]        [64, 257, 24]        2,448                True\n",
       "│    │    └─MLPBlock (mlp_block)                             [64, 257, 24]        [64, 257, 24]        150,600              True\n",
       "│    └─TransformerBlock (10)                                 [64, 257, 24]        [64, 257, 24]        --                   True\n",
       "│    │    └─MSABlock (msa_block)                             [64, 257, 24]        [64, 257, 24]        2,448                True\n",
       "│    │    └─MLPBlock (mlp_block)                             [64, 257, 24]        [64, 257, 24]        150,600              True\n",
       "│    └─TransformerBlock (11)                                 [64, 257, 24]        [64, 257, 24]        --                   True\n",
       "│    │    └─MSABlock (msa_block)                             [64, 257, 24]        [64, 257, 24]        2,448                True\n",
       "│    │    └─MLPBlock (mlp_block)                             [64, 257, 24]        [64, 257, 24]        150,600              True\n",
       "├─Sequential (classifier)                                    [64, 24]             [64, 2]              --                   True\n",
       "│    └─LayerNorm (0)                                         [64, 24]             [64, 24]             48                   True\n",
       "│    └─Linear (1)                                            [64, 24]             [64, 2]              50                   True\n",
       "============================================================================================================================================\n",
       "Total params: 1,847,858\n",
       "Trainable params: 1,847,858\n",
       "Non-trainable params: 0\n",
       "Total mult-adds (Units.MEGABYTES): 172.72\n",
       "============================================================================================================================================\n",
       "Input size (MB): 9.44\n",
       "Forward/backward pass size (MB): 4967.56\n",
       "Params size (MB): 7.25\n",
       "Estimated Total Size (MB): 4984.24\n",
       "============================================================================================================================================"
      ]
     },
     "execution_count": 20,
     "metadata": {},
     "output_type": "execute_result"
    }
   ],
   "source": [
    "model = ViT(img_size = IMAGE_HEIGHT,\n",
    "        in_channels = IMAGE_CHANNELS,\n",
    "        patch_size = PATCH_SIZE,\n",
    "        embedding_dims = EMBEDDING_DIMS,\n",
    "        num_transformer_layers = NUM_LAYERS, # from table 1 above\n",
    "        mlp_dropout = MLP_DROPOUT,\n",
    "        attn_dropout = ATTN_DROPOUT,\n",
    "        mlp_size = MLP_SIZE,\n",
    "        num_heads = NUM_HEADS,\n",
    "        num_classes = NUM_CLASSES)\n",
    "\n",
    "summary(model=model,\n",
    "        input_size=(BATCH_SIZE, IMAGE_CHANNELS, IMAGE_HEIGHT, IMAGE_WIDTH), # (batch_size, num_patches, embedding_dimension)\n",
    "        col_names=[\"input_size\", \"output_size\", \"num_params\", \"trainable\"],\n",
    "        col_width=20,\n",
    "        row_settings=[\"var_names\"])"
   ]
  },
  {
   "cell_type": "code",
   "execution_count": 21,
   "metadata": {},
   "outputs": [
    {
     "name": "stdout",
     "output_type": "stream",
     "text": [
      "Using device:  cuda (NVIDIA GeForce RTX 3060 Laptop GPU)\n"
     ]
    }
   ],
   "source": [
    "device = torch.device(\"cuda\" if torch.cuda.is_available() else \"cpu\")\n",
    "print(\"Using device: \", device, f\"({torch.cuda.get_device_name(device)})\" if torch.cuda.is_available() else \"\")\n",
    "N_EPOCHS = 20\n",
    "LR = 0.005\n",
    "optimizer = Adam(model.parameters(), \n",
    "                lr=LR)\n",
    "                # weight_decay=0.1,\n",
    "                # betas=(0.9, 0.999)) # Based on the paper\n",
    "criterion = CrossEntropyLoss()\n",
    "\n",
    "total_step = len(train_loader)"
   ]
  },
  {
   "cell_type": "code",
   "execution_count": 22,
   "metadata": {},
   "outputs": [
    {
     "name": "stderr",
     "output_type": "stream",
     "text": [
      "Training:   5%|▌         | 1/20 [02:40<50:57, 160.91s/it]"
     ]
    },
    {
     "name": "stdout",
     "output_type": "stream",
     "text": [
      "Epoch 1/20 - Loss: 0.6961, Accuracy: 50.92%\n"
     ]
    },
    {
     "name": "stderr",
     "output_type": "stream",
     "text": [
      "Training:  10%|█         | 2/20 [05:21<48:18, 161.01s/it]"
     ]
    },
    {
     "name": "stdout",
     "output_type": "stream",
     "text": [
      "Epoch 2/20 - Loss: 0.6874, Accuracy: 54.71%\n"
     ]
    },
    {
     "name": "stderr",
     "output_type": "stream",
     "text": [
      "Training:  15%|█▌        | 3/20 [08:03<45:39, 161.13s/it]"
     ]
    },
    {
     "name": "stdout",
     "output_type": "stream",
     "text": [
      "Epoch 3/20 - Loss: 0.6712, Accuracy: 59.27%\n"
     ]
    },
    {
     "name": "stderr",
     "output_type": "stream",
     "text": [
      "Training:  20%|██        | 4/20 [10:45<43:02, 161.43s/it]"
     ]
    },
    {
     "name": "stdout",
     "output_type": "stream",
     "text": [
      "Epoch 4/20 - Loss: 0.6543, Accuracy: 61.84%\n"
     ]
    },
    {
     "name": "stderr",
     "output_type": "stream",
     "text": [
      "Training:  25%|██▌       | 5/20 [13:28<40:29, 161.95s/it]"
     ]
    },
    {
     "name": "stdout",
     "output_type": "stream",
     "text": [
      "Epoch 5/20 - Loss: 0.6359, Accuracy: 63.63%\n"
     ]
    },
    {
     "name": "stderr",
     "output_type": "stream",
     "text": [
      "Training:  30%|███       | 6/20 [16:10<37:51, 162.28s/it]"
     ]
    },
    {
     "name": "stdout",
     "output_type": "stream",
     "text": [
      "Epoch 6/20 - Loss: 0.6115, Accuracy: 67.09%\n"
     ]
    },
    {
     "name": "stderr",
     "output_type": "stream",
     "text": [
      "Training:  35%|███▌      | 7/20 [18:53<35:12, 162.49s/it]"
     ]
    },
    {
     "name": "stdout",
     "output_type": "stream",
     "text": [
      "Epoch 7/20 - Loss: 0.5787, Accuracy: 70.01%\n"
     ]
    },
    {
     "name": "stderr",
     "output_type": "stream",
     "text": [
      "Training:  40%|████      | 8/20 [21:36<32:29, 162.43s/it]"
     ]
    },
    {
     "name": "stdout",
     "output_type": "stream",
     "text": [
      "Epoch 8/20 - Loss: 0.5279, Accuracy: 74.26%\n"
     ]
    },
    {
     "name": "stderr",
     "output_type": "stream",
     "text": [
      "Training:  45%|████▌     | 9/20 [24:17<29:43, 162.15s/it]"
     ]
    },
    {
     "name": "stdout",
     "output_type": "stream",
     "text": [
      "Epoch 9/20 - Loss: 0.4751, Accuracy: 77.81%\n"
     ]
    },
    {
     "name": "stderr",
     "output_type": "stream",
     "text": [
      "Training:  50%|█████     | 10/20 [26:59<26:59, 161.96s/it]"
     ]
    },
    {
     "name": "stdout",
     "output_type": "stream",
     "text": [
      "Epoch 10/20 - Loss: 0.4307, Accuracy: 80.38%\n"
     ]
    },
    {
     "name": "stderr",
     "output_type": "stream",
     "text": [
      "Training:  55%|█████▌    | 11/20 [29:40<24:16, 161.88s/it]"
     ]
    },
    {
     "name": "stdout",
     "output_type": "stream",
     "text": [
      "Epoch 11/20 - Loss: 0.3997, Accuracy: 82.13%\n"
     ]
    },
    {
     "name": "stderr",
     "output_type": "stream",
     "text": [
      "Training:  60%|██████    | 12/20 [32:22<21:33, 161.74s/it]"
     ]
    },
    {
     "name": "stdout",
     "output_type": "stream",
     "text": [
      "Epoch 12/20 - Loss: 0.3644, Accuracy: 84.32%\n"
     ]
    },
    {
     "name": "stderr",
     "output_type": "stream",
     "text": [
      "Training:  65%|██████▌   | 13/20 [35:04<18:52, 161.74s/it]"
     ]
    },
    {
     "name": "stdout",
     "output_type": "stream",
     "text": [
      "Epoch 13/20 - Loss: 0.3383, Accuracy: 85.43%\n"
     ]
    },
    {
     "name": "stderr",
     "output_type": "stream",
     "text": [
      "Training:  70%|███████   | 14/20 [37:45<16:09, 161.66s/it]"
     ]
    },
    {
     "name": "stdout",
     "output_type": "stream",
     "text": [
      "Epoch 14/20 - Loss: 0.3177, Accuracy: 86.81%\n"
     ]
    },
    {
     "name": "stderr",
     "output_type": "stream",
     "text": [
      "Training:  75%|███████▌  | 15/20 [40:28<13:29, 161.98s/it]"
     ]
    },
    {
     "name": "stdout",
     "output_type": "stream",
     "text": [
      "Epoch 15/20 - Loss: 0.3088, Accuracy: 87.17%\n"
     ]
    },
    {
     "name": "stderr",
     "output_type": "stream",
     "text": [
      "Training:  80%|████████  | 16/20 [43:11<10:49, 162.32s/it]"
     ]
    },
    {
     "name": "stdout",
     "output_type": "stream",
     "text": [
      "Epoch 16/20 - Loss: 0.2842, Accuracy: 88.24%\n"
     ]
    },
    {
     "name": "stderr",
     "output_type": "stream",
     "text": [
      "Training:  85%|████████▌ | 17/20 [45:54<08:07, 162.66s/it]"
     ]
    },
    {
     "name": "stdout",
     "output_type": "stream",
     "text": [
      "Epoch 17/20 - Loss: 0.2725, Accuracy: 88.58%\n"
     ]
    },
    {
     "name": "stderr",
     "output_type": "stream",
     "text": [
      "Training:  90%|█████████ | 18/20 [48:37<05:25, 162.80s/it]"
     ]
    },
    {
     "name": "stdout",
     "output_type": "stream",
     "text": [
      "Epoch 18/20 - Loss: 0.2606, Accuracy: 89.52%\n"
     ]
    },
    {
     "name": "stderr",
     "output_type": "stream",
     "text": [
      "Training:  95%|█████████▌| 19/20 [51:20<02:42, 162.71s/it]"
     ]
    },
    {
     "name": "stdout",
     "output_type": "stream",
     "text": [
      "Epoch 19/20 - Loss: 0.2440, Accuracy: 90.06%\n"
     ]
    },
    {
     "name": "stderr",
     "output_type": "stream",
     "text": [
      "Training: 100%|██████████| 20/20 [54:02<00:00, 162.11s/it]"
     ]
    },
    {
     "name": "stdout",
     "output_type": "stream",
     "text": [
      "Epoch 20/20 - Loss: 0.2268, Accuracy: 90.86%\n"
     ]
    },
    {
     "name": "stderr",
     "output_type": "stream",
     "text": [
      "\n"
     ]
    }
   ],
   "source": [
    "# Construct scaler for mixed precision training\n",
    "scaler = torch.cuda.amp.GradScaler()\n",
    "\n",
    "# Training loop\n",
    "for epoch in trange(N_EPOCHS, desc=\"Training\"):\n",
    "    train_loss = 0.0\n",
    "    correct = 0\n",
    "    total = 0\n",
    "    batch_num = 0\n",
    "    \n",
    "    model.train()  # Set the model to training mode\n",
    "\n",
    "    for batch in tqdm(train_loader, desc=f\"Epoch {epoch + 1} in training\", leave=False):\n",
    "        batch_num += 1\n",
    "        x, y = batch\n",
    "        x, y = x.to(device), y.to(device)\n",
    "\n",
    "        optimizer.zero_grad()\n",
    "\n",
    "        with torch.cuda.amp.autocast():\n",
    "            y_hat = model(x)\n",
    "            loss = criterion(y_hat, y)\n",
    "\n",
    "        scaler.scale(loss).backward()\n",
    "        scaler.step(optimizer)\n",
    "        scaler.update()\n",
    "\n",
    "        train_loss += loss.item()\n",
    "        _, predicted = y_hat.max(1)\n",
    "        total += y.size(0)\n",
    "        correct += predicted.eq(y).sum().item()\n",
    "\n",
    "        # if (batch_num % 100 == 0):\n",
    "        #     print(f\"Finished {batch_num} batches out of {len(train_loader)} batches\")\n",
    "\n",
    "    accuracy = 100 * correct / total\n",
    "    print(f\"Epoch {epoch + 1}/{N_EPOCHS} - Loss: {train_loss / len(train_loader):.4f}, Accuracy: {accuracy:.2f}%\")"
   ]
  },
  {
   "cell_type": "code",
   "execution_count": 25,
   "metadata": {},
   "outputs": [
    {
     "name": "stderr",
     "output_type": "stream",
     "text": [
      "Testing: 100%|██████████| 140/140 [01:17<00:00,  1.80it/s]"
     ]
    },
    {
     "name": "stdout",
     "output_type": "stream",
     "text": [
      "Test loss: 1.33\n",
      "Test accuracy: 55.93%\n"
     ]
    },
    {
     "name": "stderr",
     "output_type": "stream",
     "text": [
      "\n"
     ]
    }
   ],
   "source": [
    "# Test loop\n",
    "with torch.no_grad():\n",
    "    correct, total = 0, 0\n",
    "    test_loss = 0.0\n",
    "    for batch in tqdm(test_loader, desc=\"Testing\"):\n",
    "        x, y = batch\n",
    "        x, y = x.to(device), y.to(device)\n",
    "        y_hat = model(x)\n",
    "        loss = criterion(y_hat, y)\n",
    "        test_loss += loss.detach().cpu().item() / len(test_loader)\n",
    "\n",
    "        correct += torch.sum(torch.argmax(y_hat, dim=1) == y).detach().cpu().item()\n",
    "        total += len(x)\n",
    "    print(f\"Test loss: {test_loss:.2f}\")\n",
    "    print(f\"Test accuracy: {correct / total * 100:.2f}%\")"
   ]
  }
 ],
 "metadata": {
  "kernelspec": {
   "display_name": "conda-torch",
   "language": "python",
   "name": "python3"
  },
  "language_info": {
   "codemirror_mode": {
    "name": "ipython",
    "version": 3
   },
   "file_extension": ".py",
   "mimetype": "text/x-python",
   "name": "python",
   "nbconvert_exporter": "python",
   "pygments_lexer": "ipython3",
   "version": "3.11.4"
  }
 },
 "nbformat": 4,
 "nbformat_minor": 2
}
