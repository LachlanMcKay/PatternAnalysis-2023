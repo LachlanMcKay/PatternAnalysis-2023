{
 "cells": [
  {
   "cell_type": "code",
   "execution_count": 56,
   "metadata": {},
   "outputs": [
    {
     "data": {
      "text/plain": [
       "<torch._C.Generator at 0x1d839140270>"
      ]
     },
     "execution_count": 56,
     "metadata": {},
     "output_type": "execute_result"
    }
   ],
   "source": [
    "import torch\n",
    "from torch import nn\n",
    "from torchinfo import summary\n",
    "import numpy as np\n",
    "\n",
    "from tqdm import tqdm, trange\n",
    "\n",
    "import torch\n",
    "import torch.nn as nn\n",
    "from torch.optim import Adam\n",
    "from torch.nn import CrossEntropyLoss\n",
    "from torch.utils.data import DataLoader\n",
    "\n",
    "from torchvision.transforms import ToTensor\n",
    "from torchvision.datasets.mnist import MNIST\n",
    "\n",
    "np.random.seed(0)\n",
    "torch.manual_seed(0)"
   ]
  },
  {
   "cell_type": "code",
   "execution_count": 36,
   "metadata": {},
   "outputs": [],
   "source": [
    "import os\n",
    "import torch\n",
    "from torchvision import transforms, datasets\n",
    "from torch.utils.data import DataLoader, Dataset\n",
    "import matplotlib.pyplot as plt\n",
    "from PIL import Image\n",
    "\n",
    "class ADNIDataset(Dataset):\n",
    "    def __init__(self, root_dir, transform=None):\n",
    "        self.root_dir = root_dir\n",
    "        self.transform = transform\n",
    "\n",
    "        # Get a list of subdirectories (labels) in the root directory\n",
    "        self.labels = sorted(os.listdir(root_dir))\n",
    "\n",
    "        # Create a mapping from label (subdirectory) to an integer\n",
    "        self.label_to_idx = {label: idx for idx, label in enumerate(self.labels)}\n",
    "\n",
    "        self.data = []\n",
    "        self.targets = []\n",
    "        self.names = []\n",
    "\n",
    "        # Create a dictionary to store the count of images for each class\n",
    "        self.class_counts = {label: 0 for label in self.labels}\n",
    "\n",
    "        # Iterate through subdirectories\n",
    "        for label in self.labels:\n",
    "            label_dir = os.path.join(root_dir, label)\n",
    "            \n",
    "            # Check if it's a directory\n",
    "            if not os.path.isdir(label_dir):\n",
    "                continue\n",
    "\n",
    "            # Get a list of image files in the subdirectory\n",
    "            image_files = [f for f in os.listdir(label_dir) if f.lower().endswith((\".jpg\", \".jpeg\", \".png\", \".gif\"))]\n",
    "\n",
    "            # Update class counts and append image paths and their corresponding labels\n",
    "            for image_file in image_files:\n",
    "                image_path = os.path.join(label_dir, image_file)\n",
    "                self.data.append(image_path)\n",
    "                self.targets.append(self.label_to_idx[label])\n",
    "                self.names.append(image_file)\n",
    "                self.class_counts[label] += 1\n",
    "\n",
    "    def __len__(self):\n",
    "        return len(self.data)\n",
    "\n",
    "    def __getitem__(self, idx):\n",
    "        image_path = self.data[idx]\n",
    "        image = Image.open(image_path).convert('RGB')\n",
    "\n",
    "        if self.transform:\n",
    "            image = self.transform(image)\n",
    "\n",
    "        label = self.targets[idx]\n",
    "        name = self.names[idx]\n",
    "\n",
    "        return image, label, name\n",
    "\n",
    "    def get_class_counts(self):\n",
    "        return self.class_counts\n",
    "    \n",
    "    def get_labels(self):\n",
    "        return self.labels\n",
    "    \n",
    "    def get_names(self):\n",
    "        return self.names\n",
    "\n",
    "def create_dataloaders(dir, batch_size=64, shuffle=True, transform=None, num_workers=4):\n",
    "    train_path = os.path.join(dir, \"train\")\n",
    "    test_path = os.path.join(dir, \"test\")\n",
    "\n",
    "    train_dataset = ADNIDataset(train_path, transform=transform)\n",
    "    test_dataset = ADNIDataset(test_path, transform=transform)\n",
    "\n",
    "    train_loader = DataLoader(train_dataset, batch_size=64, shuffle=False)\n",
    "    test_loader = DataLoader(test_dataset, batch_size=64, shuffle=False)\n",
    "\n",
    "    return train_loader, test_loader"
   ]
  },
  {
   "cell_type": "code",
   "execution_count": 37,
   "metadata": {},
   "outputs": [
    {
     "name": "stdout",
     "output_type": "stream",
     "text": [
      "{'AD': 10400, 'NC': 11120}\n",
      "{'AD': 4460, 'NC': 4540}\n"
     ]
    }
   ],
   "source": [
    "transform = transforms.Compose([\n",
    "    transforms.Resize((224, 224)),\n",
    "    # transforms.RandomRotation(degrees=90),\n",
    "    transforms.ToTensor(),\n",
    "])\n",
    "\n",
    "train_loader, test_loader = create_dataloaders(\"D:/AD_NC\", transform=transform)\n",
    "print(train_loader.dataset.get_class_counts())\n",
    "print(test_loader.dataset.get_class_counts())"
   ]
  },
  {
   "cell_type": "code",
   "execution_count": 42,
   "metadata": {},
   "outputs": [],
   "source": [
    "PATCH_SIZE = 16\n",
    "IMAGE_WIDTH = 224\n",
    "IMAGE_HEIGHT = IMAGE_WIDTH\n",
    "IMAGE_CHANNELS = 3\n",
    "EMBEDDING_DIMS = IMAGE_CHANNELS * PATCH_SIZE**2\n",
    "NUM_OF_PATCHES = int((IMAGE_WIDTH * IMAGE_HEIGHT) / PATCH_SIZE**2)\n",
    "\n",
    "#the image width and image height should be divisible by patch size. This is a check to see that.\n",
    "\n",
    "assert IMAGE_WIDTH % PATCH_SIZE == 0 and IMAGE_HEIGHT % PATCH_SIZE ==0 , print(\"Image Width is not divisible by patch size\")"
   ]
  },
  {
   "cell_type": "code",
   "execution_count": 25,
   "metadata": {},
   "outputs": [],
   "source": [
    "conv_layer = nn.Conv2d(in_channels = IMAGE_CHANNELS, out_channels = EMBEDDING_DIMS, kernel_size = PATCH_SIZE, stride = PATCH_SIZE)"
   ]
  },
  {
   "cell_type": "code",
   "execution_count": 39,
   "metadata": {},
   "outputs": [
    {
     "name": "stdout",
     "output_type": "stream",
     "text": [
      "64\n",
      "(3, 224, 224)\n",
      "218391_78.jpeg\n"
     ]
    },
    {
     "data": {
      "image/png": "[encoded data removed]",
      "text/plain": [
       "<Figure size 640x480 with 1 Axes>"
      ]
     },
     "metadata": {},
     "output_type": "display_data"
    }
   ],
   "source": [
    "images, labels, names = next(iter(train_loader))\n",
    "image = images[0]\n",
    "imagesnp = images.numpy()\n",
    "print(len(images))\n",
    "print(imagesnp[0].shape)\n",
    "print(names[0])\n",
    "plt.imshow(imagesnp[0][0], cmap='gray')\n",
    "plt.axis(\"off\")\n",
    "plt.show()"
   ]
  },
  {
   "cell_type": "code",
   "execution_count": null,
   "metadata": {},
   "outputs": [],
   "source": [
    "# Pass the image through the convolution layer\n",
    "image_through_conv = conv_layer(image.unsqueeze(0))\n",
    "print(f'Shape of embeddings through the conv layer -> {list(image_through_conv.shape)} <- [batch_size, num_of_patch_rows,num_patch_cols embedding_dims]')\n",
    "\n",
    "# Permute the dimensions of image_through_conv to match the expected shape\n",
    "image_through_conv = image_through_conv.permute((0, 2, 3, 1))\n",
    "\n",
    "# Create a flatten layer using nn.Flatten\n",
    "flatten_layer = nn.Flatten(start_dim=1, end_dim=2)\n",
    "\n",
    "# Pass the image_through_conv through the flatten layer\n",
    "image_through_conv_and_flatten = flatten_layer(image_through_conv)\n",
    "\n",
    "# Print the shape of the embedded image\n",
    "print(f'Shape of embeddings through the flatten layer -> {list(image_through_conv_and_flatten.shape)} <- [batch_size, num_of_patches, embedding_dims]')\n",
    "\n",
    "# Assign the embedded image to a variable\n",
    "embedded_image = image_through_conv_and_flatten"
   ]
  },
  {
   "cell_type": "code",
   "execution_count": null,
   "metadata": {},
   "outputs": [],
   "source": [
    "class_token_embeddings = nn.Parameter(torch.rand((1, 1,EMBEDDING_DIMS), requires_grad  = True))\n",
    "print(f'Shape of class_token_embeddings --> {list(class_token_embeddings.shape)} <-- [batch_size, 1, emdedding_dims]')\n",
    "\n",
    "embedded_image_with_class_token_embeddings = torch.cat((class_token_embeddings, embedded_image), dim = 1)\n",
    "print(f'\\nShape of image embeddings with class_token_embeddings --> {list(embedded_image_with_class_token_embeddings.shape)} <-- [batch_size, num_of_patches+1, embeddiing_dims]')\n",
    "\n",
    "position_embeddings = nn.Parameter(torch.rand((1, NUM_OF_PATCHES+1, EMBEDDING_DIMS ), requires_grad = True ))\n",
    "print(f'\\nShape of position_embeddings --> {list(position_embeddings.shape)} <-- [batch_size, num_patches+1, embeddings_dims]')\n",
    "\n",
    "final_embeddings = embedded_image_with_class_token_embeddings + position_embeddings\n",
    "print(f'\\nShape of final_embeddings --> {list(final_embeddings.shape)} <-- [batch_size, num_patches+1, embeddings_dims]')"
   ]
  },
  {
   "cell_type": "code",
   "execution_count": 43,
   "metadata": {},
   "outputs": [],
   "source": [
    "BATCH_SIZE = 64\n",
    "\n",
    "class PatchEmbeddingLayer(nn.Module):\n",
    "    def __init__(self, in_channels, patch_size, embedding_dim,):\n",
    "        super().__init__()\n",
    "        self.patch_size = patch_size\n",
    "        self.embedding_dim = embedding_dim\n",
    "        self.in_channels = in_channels\n",
    "        self.conv_layer = nn.Conv2d(in_channels=in_channels, out_channels=embedding_dim, kernel_size=patch_size, stride=patch_size)\n",
    "        self.flatten_layer = nn.Flatten(start_dim=1, end_dim=2)\n",
    "        self.class_token_embeddings = nn.Parameter(torch.rand((BATCH_SIZE, 1, EMBEDDING_DIMS), requires_grad=True))\n",
    "        self.position_embeddings = nn.Parameter(torch.rand((1, NUM_OF_PATCHES + 1, EMBEDDING_DIMS), requires_grad=True))\n",
    "\n",
    "    def forward(self, x):\n",
    "        output = torch.cat((self.class_token_embeddings, self.flatten_layer(self.conv_layer(x).permute((0, 2, 3, 1)))), dim=1) + self.position_embeddings\n",
    "        return output"
   ]
  },
  {
   "cell_type": "code",
   "execution_count": 44,
   "metadata": {},
   "outputs": [
    {
     "data": {
      "text/plain": [
       "torch.Size([64, 197, 768])"
      ]
     },
     "execution_count": 44,
     "metadata": {},
     "output_type": "execute_result"
    }
   ],
   "source": [
    "patch_embedding_layer = PatchEmbeddingLayer(in_channels=IMAGE_CHANNELS, patch_size=PATCH_SIZE, embedding_dim=IMAGE_CHANNELS * PATCH_SIZE ** 2)\n",
    "patch_embeddings = patch_embedding_layer(images)\n",
    "patch_embeddings.shape"
   ]
  },
  {
   "cell_type": "code",
   "execution_count": 30,
   "metadata": {},
   "outputs": [
    {
     "data": {
      "text/plain": [
       "=============================================================================================================================\n",
       "Layer (type (var_name))                       Input Shape          Output Shape         Param #              Trainable\n",
       "=============================================================================================================================\n",
       "PatchEmbeddingLayer (PatchEmbeddingLayer)     [64, 1, 224, 224]    [64, 197, 256]       66,816               True\n",
       "├─Conv2d (conv_layer)                         [64, 1, 224, 224]    [64, 256, 14, 14]    65,792               True\n",
       "├─Flatten (flatten_layer)                     [64, 14, 14, 256]    [64, 196, 256]       --                   --\n",
       "=============================================================================================================================\n",
       "Total params: 132,608\n",
       "Trainable params: 132,608\n",
       "Non-trainable params: 0\n",
       "Total mult-adds (Units.MEGABYTES): 825.29\n",
       "=============================================================================================================================\n",
       "Input size (MB): 12.85\n",
       "Forward/backward pass size (MB): 25.69\n",
       "Params size (MB): 0.26\n",
       "Estimated Total Size (MB): 38.80\n",
       "============================================================================================================================="
      ]
     },
     "execution_count": 30,
     "metadata": {},
     "output_type": "execute_result"
    }
   ],
   "source": [
    "summary(model=patch_embedding_layer,\n",
    "        input_size=(BATCH_SIZE, 1, 224, 224), # (batch_size, input_channels, img_width, img_height)\n",
    "        col_names=[\"input_size\", \"output_size\", \"num_params\", \"trainable\"],\n",
    "        col_width=20,\n",
    "        row_settings=[\"var_names\"])"
   ]
  },
  {
   "cell_type": "code",
   "execution_count": 45,
   "metadata": {},
   "outputs": [],
   "source": [
    "class MSABlock(nn.Module):\n",
    "  def __init__(self,\n",
    "            embedding_dims = 768, # Hidden Size D in the ViT Paper Table 1\n",
    "            num_heads = 12,  # Heads in the ViT Paper Table 1\n",
    "            attn_dropout = 0.0 # Default to Zero as there is no dropout for the the MSA Block as per the ViT Paper\n",
    "            ):\n",
    "    super().__init__()\n",
    "\n",
    "    self.embedding_dims = embedding_dims\n",
    "    self.num_head = num_heads\n",
    "    self.attn_dropout = attn_dropout\n",
    "\n",
    "    self.layernorm = nn.LayerNorm(normalized_shape = embedding_dims)\n",
    "\n",
    "    self.multiheadattention =  nn.MultiheadAttention(num_heads = num_heads,\n",
    "                                                    embed_dim = embedding_dims,\n",
    "                                                    dropout = attn_dropout,\n",
    "                                                    batch_first = True,\n",
    "                                                    )\n",
    "\n",
    "  def forward(self, x):\n",
    "    x = self.layernorm(x)\n",
    "    output,_ = self.multiheadattention(query=x, key=x, value=x,need_weights=False)\n",
    "    return output"
   ]
  },
  {
   "cell_type": "code",
   "execution_count": 46,
   "metadata": {},
   "outputs": [
    {
     "name": "stdout",
     "output_type": "stream",
     "text": [
      "Shape of the input Patch Embeddings => [64, 197, 768] <= [batch_size, num_patches+1, embedding_dims ]\n",
      "Shape of the output from MSA Block => [64, 197, 768] <= [batch_size, num_patches+1, embedding_dims ]\n"
     ]
    }
   ],
   "source": [
    "msa_block = MSABlock(embedding_dims = EMBEDDING_DIMS,\n",
    "                    num_heads = 12\n",
    "                    )\n",
    "print(f'Shape of the input Patch Embeddings => {list(patch_embeddings.shape)} <= [batch_size, num_patches+1, embedding_dims ]')\n",
    "print(f'Shape of the output from MSA Block => {list(msa_block(patch_embeddings).shape)} <= [batch_size, num_patches+1, embedding_dims ]')"
   ]
  },
  {
   "cell_type": "code",
   "execution_count": 47,
   "metadata": {},
   "outputs": [
    {
     "data": {
      "text/plain": [
       "=============================================================================================================================\n",
       "Layer (type (var_name))                       Input Shape          Output Shape         Param #              Trainable\n",
       "=============================================================================================================================\n",
       "MSABlock (MSABlock)                           [1, 197, 768]        [1, 197, 768]        --                   True\n",
       "├─LayerNorm (layernorm)                       [1, 197, 768]        [1, 197, 768]        1,536                True\n",
       "├─MultiheadAttention (multiheadattention)     --                   [1, 197, 768]        2,362,368            True\n",
       "=============================================================================================================================\n",
       "Total params: 2,363,904\n",
       "Trainable params: 2,363,904\n",
       "Non-trainable params: 0\n",
       "Total mult-adds (Units.MEGABYTES): 0.00\n",
       "=============================================================================================================================\n",
       "Input size (MB): 0.61\n",
       "Forward/backward pass size (MB): 1.21\n",
       "Params size (MB): 0.01\n",
       "Estimated Total Size (MB): 1.82\n",
       "============================================================================================================================="
      ]
     },
     "execution_count": 47,
     "metadata": {},
     "output_type": "execute_result"
    }
   ],
   "source": [
    "summary(model=msa_block,\n",
    "        input_size=(1, 197, 768), # (batch_size, num_patches, embedding_dimension)\n",
    "        col_names=[\"input_size\", \"output_size\", \"num_params\", \"trainable\"],\n",
    "        col_width=20,\n",
    "        row_settings=[\"var_names\"])"
   ]
  },
  {
   "cell_type": "code",
   "execution_count": 48,
   "metadata": {},
   "outputs": [],
   "source": [
    "class MLPBlock(nn.Module):\n",
    "  def __init__(self, embedding_dims, mlp_size, mlp_dropout):\n",
    "    super().__init__()\n",
    "    self.embedding_dims = embedding_dims\n",
    "    self.mlp_size = mlp_size\n",
    "    self.dropout = mlp_dropout\n",
    "\n",
    "    self.layernorm = nn.LayerNorm(normalized_shape = embedding_dims)\n",
    "    self.mlp = nn.Sequential(\n",
    "        nn.Linear(in_features = embedding_dims, out_features = mlp_size),\n",
    "        nn.GELU(),\n",
    "        nn.Dropout(p = mlp_dropout),\n",
    "        nn.Linear(in_features = mlp_size, out_features = embedding_dims),\n",
    "        nn.Dropout(p = mlp_dropout)\n",
    "    )\n",
    "\n",
    "  def forward(self, x):\n",
    "    return self.mlp(self.layernorm(x))"
   ]
  },
  {
   "cell_type": "code",
   "execution_count": 49,
   "metadata": {},
   "outputs": [
    {
     "data": {
      "text/plain": [
       "========================================================================================================================\n",
       "Layer (type (var_name))                  Input Shape          Output Shape         Param #              Trainable\n",
       "========================================================================================================================\n",
       "MLPBlock (MLPBlock)                      [1, 197, 768]        [1, 197, 768]        --                   True\n",
       "├─LayerNorm (layernorm)                  [1, 197, 768]        [1, 197, 768]        1,536                True\n",
       "├─Sequential (mlp)                       [1, 197, 768]        [1, 197, 768]        --                   True\n",
       "│    └─Linear (0)                        [1, 197, 768]        [1, 197, 3072]       2,362,368            True\n",
       "│    └─GELU (1)                          [1, 197, 3072]       [1, 197, 3072]       --                   --\n",
       "│    └─Dropout (2)                       [1, 197, 3072]       [1, 197, 3072]       --                   --\n",
       "│    └─Linear (3)                        [1, 197, 3072]       [1, 197, 768]        2,360,064            True\n",
       "│    └─Dropout (4)                       [1, 197, 768]        [1, 197, 768]        --                   --\n",
       "========================================================================================================================\n",
       "Total params: 4,723,968\n",
       "Trainable params: 4,723,968\n",
       "Non-trainable params: 0\n",
       "Total mult-adds (Units.MEGABYTES): 4.72\n",
       "========================================================================================================================\n",
       "Input size (MB): 0.61\n",
       "Forward/backward pass size (MB): 7.26\n",
       "Params size (MB): 18.90\n",
       "Estimated Total Size (MB): 26.76\n",
       "========================================================================================================================"
      ]
     },
     "execution_count": 49,
     "metadata": {},
     "output_type": "execute_result"
    }
   ],
   "source": [
    "mlp_block = MLPBlock(embedding_dims = EMBEDDING_DIMS,\n",
    "                    mlp_size = 3072,\n",
    "                    mlp_dropout = 0.1)\n",
    "\n",
    "summary(model=mlp_block,\n",
    "        input_size=(1, 197, 768), # (batch_size, num_patches, embedding_dimension)\n",
    "        col_names=[\"input_size\", \"output_size\", \"num_params\", \"trainable\"],\n",
    "        col_width=20,\n",
    "        row_settings=[\"var_names\"])"
   ]
  },
  {
   "cell_type": "code",
   "execution_count": 50,
   "metadata": {},
   "outputs": [],
   "source": [
    "class TransformerBlock(nn.Module):\n",
    "    def __init__(self, embedding_dims = 768,\n",
    "                mlp_dropout=0.1,\n",
    "                attn_dropout=0.0,\n",
    "                mlp_size = 3072,\n",
    "                num_heads = 12,\n",
    "                ):\n",
    "        super().__init__()\n",
    "\n",
    "        self.msa_block = MSABlock(embedding_dims = embedding_dims,\n",
    "                                                    num_heads = num_heads,\n",
    "                                                    attn_dropout = attn_dropout)\n",
    "\n",
    "        self.mlp_block = MLPBlock(embedding_dims = embedding_dims,\n",
    "                                                        mlp_size = mlp_size,\n",
    "                                                        mlp_dropout = mlp_dropout,\n",
    "                                                        )\n",
    "\n",
    "    def forward(self,x):\n",
    "        x = self.msa_block(x) + x\n",
    "        x = self.mlp_block(x) + x\n",
    "\n",
    "        return x"
   ]
  },
  {
   "cell_type": "code",
   "execution_count": 51,
   "metadata": {},
   "outputs": [
    {
     "name": "stdout",
     "output_type": "stream",
     "text": [
      "Shape of the input Patch Embeddings => [64, 197, 768] <= [batch_size, num_patches+1, embedding_dims ]\n",
      "Shape of the output from Transformer Block => [64, 197, 768] <= [batch_size, num_patches+1, embedding_dims ]\n"
     ]
    }
   ],
   "source": [
    "transformer_block = TransformerBlock(embedding_dims = EMBEDDING_DIMS,\n",
    "                                    mlp_dropout = 0.1,\n",
    "                                    attn_dropout=0.0,\n",
    "                                    mlp_size = 3072,\n",
    "                                    num_heads = 12)\n",
    "\n",
    "print(f'Shape of the input Patch Embeddings => {list(patch_embeddings.shape)} <= [batch_size, num_patches+1, embedding_dims ]')\n",
    "print(f'Shape of the output from Transformer Block => {list(transformer_block(patch_embeddings).shape)} <= [batch_size, num_patches+1, embedding_dims ]')"
   ]
  },
  {
   "cell_type": "code",
   "execution_count": 52,
   "metadata": {},
   "outputs": [
    {
     "data": {
      "text/plain": [
       "==================================================================================================================================\n",
       "Layer (type (var_name))                            Input Shape          Output Shape         Param #              Trainable\n",
       "==================================================================================================================================\n",
       "TransformerBlock (TransformerBlock)                [1, 197, 768]        [1, 197, 768]        --                   True\n",
       "├─MSABlock (msa_block)                             [1, 197, 768]        [1, 197, 768]        --                   True\n",
       "│    └─LayerNorm (layernorm)                       [1, 197, 768]        [1, 197, 768]        1,536                True\n",
       "│    └─MultiheadAttention (multiheadattention)     --                   [1, 197, 768]        2,362,368            True\n",
       "├─MLPBlock (mlp_block)                             [1, 197, 768]        [1, 197, 768]        --                   True\n",
       "│    └─LayerNorm (layernorm)                       [1, 197, 768]        [1, 197, 768]        1,536                True\n",
       "│    └─Sequential (mlp)                            [1, 197, 768]        [1, 197, 768]        --                   True\n",
       "│    │    └─Linear (0)                             [1, 197, 768]        [1, 197, 3072]       2,362,368            True\n",
       "│    │    └─GELU (1)                               [1, 197, 3072]       [1, 197, 3072]       --                   --\n",
       "│    │    └─Dropout (2)                            [1, 197, 3072]       [1, 197, 3072]       --                   --\n",
       "│    │    └─Linear (3)                             [1, 197, 3072]       [1, 197, 768]        2,360,064            True\n",
       "│    │    └─Dropout (4)                            [1, 197, 768]        [1, 197, 768]        --                   --\n",
       "==================================================================================================================================\n",
       "Total params: 7,087,872\n",
       "Trainable params: 7,087,872\n",
       "Non-trainable params: 0\n",
       "Total mult-adds (Units.MEGABYTES): 4.73\n",
       "==================================================================================================================================\n",
       "Input size (MB): 0.61\n",
       "Forward/backward pass size (MB): 8.47\n",
       "Params size (MB): 18.90\n",
       "Estimated Total Size (MB): 27.98\n",
       "=================================================================================================================================="
      ]
     },
     "execution_count": 52,
     "metadata": {},
     "output_type": "execute_result"
    }
   ],
   "source": [
    "summary(model=transformer_block,\n",
    "        input_size=(1, 197, 768), # (batch_size, num_patches, embedding_dimension)\n",
    "        col_names=[\"input_size\", \"output_size\", \"num_params\", \"trainable\"],\n",
    "        col_width=20,\n",
    "        row_settings=[\"var_names\"])"
   ]
  },
  {
   "cell_type": "code",
   "execution_count": 53,
   "metadata": {},
   "outputs": [],
   "source": [
    "class ViT(nn.Module):\n",
    "    def __init__(self, img_size = 224,\n",
    "                in_channels = 3,\n",
    "                patch_size = 16,\n",
    "                embedding_dims = 768,\n",
    "                num_transformer_layers = 12, # from table 1 above\n",
    "                mlp_dropout = 0.1,\n",
    "                attn_dropout = 0.0,\n",
    "                mlp_size = 3072,\n",
    "                num_heads = 12,\n",
    "                num_classes = 1000):\n",
    "        super().__init__()\n",
    "\n",
    "        self.patch_embedding_layer = PatchEmbeddingLayer(in_channels = in_channels,\n",
    "                                                        patch_size=patch_size,\n",
    "                                                        embedding_dim = embedding_dims)\n",
    "\n",
    "        self.transformer_encoder = nn.Sequential(*[TransformerBlock(embedding_dims = embedding_dims,\n",
    "                                                mlp_dropout = mlp_dropout,\n",
    "                                                attn_dropout = attn_dropout,\n",
    "                                                mlp_size = mlp_size,\n",
    "                                                num_heads = num_heads) for _ in range(num_transformer_layers)])\n",
    "\n",
    "        self.classifier = nn.Sequential(nn.LayerNorm(normalized_shape = embedding_dims),\n",
    "                                        nn.Linear(in_features = embedding_dims,\n",
    "                                                out_features = num_classes))\n",
    "\n",
    "    def forward(self, x):\n",
    "        return self.classifier(self.transformer_encoder(self.patch_embedding_layer(x))[:, 0])"
   ]
  },
  {
   "cell_type": "code",
   "execution_count": 58,
   "metadata": {},
   "outputs": [
    {
     "data": {
      "text/plain": [
       "============================================================================================================================================\n",
       "Layer (type (var_name))                                      Input Shape          Output Shape         Param #              Trainable\n",
       "============================================================================================================================================\n",
       "ViT (ViT)                                                    [64, 3, 224, 224]    [64, 2]              --                   True\n",
       "├─PatchEmbeddingLayer (patch_embedding_layer)                [64, 3, 224, 224]    [64, 197, 768]       200,448              True\n",
       "│    └─Conv2d (conv_layer)                                   [64, 3, 224, 224]    [64, 768, 14, 14]    590,592              True\n",
       "│    └─Flatten (flatten_layer)                               [64, 14, 14, 768]    [64, 196, 768]       --                   --\n",
       "├─Sequential (transformer_encoder)                           [64, 197, 768]       [64, 197, 768]       --                   True\n",
       "│    └─TransformerBlock (0)                                  [64, 197, 768]       [64, 197, 768]       --                   True\n",
       "│    │    └─MSABlock (msa_block)                             [64, 197, 768]       [64, 197, 768]       2,363,904            True\n",
       "│    │    └─MLPBlock (mlp_block)                             [64, 197, 768]       [64, 197, 768]       4,723,968            True\n",
       "│    └─TransformerBlock (1)                                  [64, 197, 768]       [64, 197, 768]       --                   True\n",
       "│    │    └─MSABlock (msa_block)                             [64, 197, 768]       [64, 197, 768]       2,363,904            True\n",
       "│    │    └─MLPBlock (mlp_block)                             [64, 197, 768]       [64, 197, 768]       4,723,968            True\n",
       "│    └─TransformerBlock (2)                                  [64, 197, 768]       [64, 197, 768]       --                   True\n",
       "│    │    └─MSABlock (msa_block)                             [64, 197, 768]       [64, 197, 768]       2,363,904            True\n",
       "│    │    └─MLPBlock (mlp_block)                             [64, 197, 768]       [64, 197, 768]       4,723,968            True\n",
       "│    └─TransformerBlock (3)                                  [64, 197, 768]       [64, 197, 768]       --                   True\n",
       "│    │    └─MSABlock (msa_block)                             [64, 197, 768]       [64, 197, 768]       2,363,904            True\n",
       "│    │    └─MLPBlock (mlp_block)                             [64, 197, 768]       [64, 197, 768]       4,723,968            True\n",
       "│    └─TransformerBlock (4)                                  [64, 197, 768]       [64, 197, 768]       --                   True\n",
       "│    │    └─MSABlock (msa_block)                             [64, 197, 768]       [64, 197, 768]       2,363,904            True\n",
       "│    │    └─MLPBlock (mlp_block)                             [64, 197, 768]       [64, 197, 768]       4,723,968            True\n",
       "│    └─TransformerBlock (5)                                  [64, 197, 768]       [64, 197, 768]       --                   True\n",
       "│    │    └─MSABlock (msa_block)                             [64, 197, 768]       [64, 197, 768]       2,363,904            True\n",
       "│    │    └─MLPBlock (mlp_block)                             [64, 197, 768]       [64, 197, 768]       4,723,968            True\n",
       "│    └─TransformerBlock (6)                                  [64, 197, 768]       [64, 197, 768]       --                   True\n",
       "│    │    └─MSABlock (msa_block)                             [64, 197, 768]       [64, 197, 768]       2,363,904            True\n",
       "│    │    └─MLPBlock (mlp_block)                             [64, 197, 768]       [64, 197, 768]       4,723,968            True\n",
       "│    └─TransformerBlock (7)                                  [64, 197, 768]       [64, 197, 768]       --                   True\n",
       "│    │    └─MSABlock (msa_block)                             [64, 197, 768]       [64, 197, 768]       2,363,904            True\n",
       "│    │    └─MLPBlock (mlp_block)                             [64, 197, 768]       [64, 197, 768]       4,723,968            True\n",
       "│    └─TransformerBlock (8)                                  [64, 197, 768]       [64, 197, 768]       --                   True\n",
       "│    │    └─MSABlock (msa_block)                             [64, 197, 768]       [64, 197, 768]       2,363,904            True\n",
       "│    │    └─MLPBlock (mlp_block)                             [64, 197, 768]       [64, 197, 768]       4,723,968            True\n",
       "│    └─TransformerBlock (9)                                  [64, 197, 768]       [64, 197, 768]       --                   True\n",
       "│    │    └─MSABlock (msa_block)                             [64, 197, 768]       [64, 197, 768]       2,363,904            True\n",
       "│    │    └─MLPBlock (mlp_block)                             [64, 197, 768]       [64, 197, 768]       4,723,968            True\n",
       "│    └─TransformerBlock (10)                                 [64, 197, 768]       [64, 197, 768]       --                   True\n",
       "│    │    └─MSABlock (msa_block)                             [64, 197, 768]       [64, 197, 768]       2,363,904            True\n",
       "│    │    └─MLPBlock (mlp_block)                             [64, 197, 768]       [64, 197, 768]       4,723,968            True\n",
       "│    └─TransformerBlock (11)                                 [64, 197, 768]       [64, 197, 768]       --                   True\n",
       "│    │    └─MSABlock (msa_block)                             [64, 197, 768]       [64, 197, 768]       2,363,904            True\n",
       "│    │    └─MLPBlock (mlp_block)                             [64, 197, 768]       [64, 197, 768]       4,723,968            True\n",
       "├─Sequential (classifier)                                    [64, 768]            [64, 2]              --                   True\n",
       "│    └─LayerNorm (0)                                         [64, 768]            [64, 768]            1,536                True\n",
       "│    └─Linear (1)                                            [64, 768]            [64, 2]              1,538                True\n",
       "============================================================================================================================================\n",
       "Total params: 85,848,578\n",
       "Trainable params: 85,848,578\n",
       "Non-trainable params: 0\n",
       "Total mult-adds (Units.GIGABYTES): 11.04\n",
       "============================================================================================================================================\n",
       "Input size (MB): 38.54\n",
       "Forward/backward pass size (MB): 6584.40\n",
       "Params size (MB): 229.20\n",
       "Estimated Total Size (MB): 6852.14\n",
       "============================================================================================================================================"
      ]
     },
     "execution_count": 58,
     "metadata": {},
     "output_type": "execute_result"
    }
   ],
   "source": [
    "model = ViT(img_size = 224,\n",
    "        in_channels = 3,\n",
    "        patch_size = 16,\n",
    "        embedding_dims = EMBEDDING_DIMS,\n",
    "        num_transformer_layers = 12, # from table 1 above\n",
    "        mlp_dropout = 0.1,\n",
    "        attn_dropout = 0.0,\n",
    "        mlp_size = 3072,\n",
    "        num_heads = 12,\n",
    "        num_classes = 2)\n",
    "\n",
    "summary(model=model,\n",
    "        input_size=(BATCH_SIZE, 3, 224, 224), # (batch_size, num_patches, embedding_dimension)\n",
    "        col_names=[\"input_size\", \"output_size\", \"num_params\", \"trainable\"],\n",
    "        col_width=20,\n",
    "        row_settings=[\"var_names\"])"
   ]
  },
  {
   "cell_type": "code",
   "execution_count": 59,
   "metadata": {},
   "outputs": [
    {
     "name": "stdout",
     "output_type": "stream",
     "text": [
      "Using device:  cuda (NVIDIA GeForce RTX 3060 Laptop GPU)\n"
     ]
    }
   ],
   "source": [
    "device = torch.device(\"cuda\" if torch.cuda.is_available() else \"cpu\")\n",
    "print(\"Using device: \", device, f\"({torch.cuda.get_device_name(device)})\" if torch.cuda.is_available() else \"\")\n",
    "N_EPOCHS = 5\n",
    "LR = 0.005\n",
    "optimizer = Adam(model.parameters(), lr=LR)\n",
    "criterion = CrossEntropyLoss()"
   ]
  },
  {
   "cell_type": "code",
   "execution_count": 60,
   "metadata": {},
   "outputs": [
    {
     "name": "stderr",
     "output_type": "stream",
     "text": [
      "Training:   0%|          | 0/5 [11:34<?, ?it/s]\n"
     ]
    },
    {
     "ename": "KeyboardInterrupt",
     "evalue": "",
     "output_type": "error",
     "traceback": [
      "\u001b[1;31m---------------------------------------------------------------------------\u001b[0m",
      "\u001b[1;31mKeyboardInterrupt\u001b[0m                         Traceback (most recent call last)",
      "\u001b[1;32mc:\\Users\\Jacqu\\OneDrive\\Documents\\GitHub\\PatternAnalysis-2023\\recognition\\45339961_ViT\\Example.ipynb Cell 23\u001b[0m line \u001b[0;36m6\n\u001b[0;32m      <a href='vscode-notebook-cell:/c%3A/Users/Jacqu/OneDrive/Documents/GitHub/PatternAnalysis-2023/recognition/45339961_ViT/Example.ipynb#X35sZmlsZQ%3D%3D?line=3'>4</a>\u001b[0m \u001b[39mfor\u001b[39;00m batch \u001b[39min\u001b[39;00m tqdm(train_loader, desc\u001b[39m=\u001b[39m\u001b[39mf\u001b[39m\u001b[39m\"\u001b[39m\u001b[39mEpoch \u001b[39m\u001b[39m{\u001b[39;00mepoch\u001b[39m \u001b[39m\u001b[39m+\u001b[39m\u001b[39m \u001b[39m\u001b[39m1\u001b[39m\u001b[39m}\u001b[39;00m\u001b[39m in training\u001b[39m\u001b[39m\"\u001b[39m, leave\u001b[39m=\u001b[39m\u001b[39mFalse\u001b[39;00m):\n\u001b[0;32m      <a href='vscode-notebook-cell:/c%3A/Users/Jacqu/OneDrive/Documents/GitHub/PatternAnalysis-2023/recognition/45339961_ViT/Example.ipynb#X35sZmlsZQ%3D%3D?line=4'>5</a>\u001b[0m     x, y, name \u001b[39m=\u001b[39m batch\n\u001b[1;32m----> <a href='vscode-notebook-cell:/c%3A/Users/Jacqu/OneDrive/Documents/GitHub/PatternAnalysis-2023/recognition/45339961_ViT/Example.ipynb#X35sZmlsZQ%3D%3D?line=5'>6</a>\u001b[0m     x, y \u001b[39m=\u001b[39m x\u001b[39m.\u001b[39;49mto(device), y\u001b[39m.\u001b[39mto(device)\n\u001b[0;32m      <a href='vscode-notebook-cell:/c%3A/Users/Jacqu/OneDrive/Documents/GitHub/PatternAnalysis-2023/recognition/45339961_ViT/Example.ipynb#X35sZmlsZQ%3D%3D?line=6'>7</a>\u001b[0m     y_hat \u001b[39m=\u001b[39m model(x)\n\u001b[0;32m      <a href='vscode-notebook-cell:/c%3A/Users/Jacqu/OneDrive/Documents/GitHub/PatternAnalysis-2023/recognition/45339961_ViT/Example.ipynb#X35sZmlsZQ%3D%3D?line=7'>8</a>\u001b[0m     loss \u001b[39m=\u001b[39m criterion(y_hat, y)\n",
      "\u001b[1;31mKeyboardInterrupt\u001b[0m: "
     ]
    }
   ],
   "source": [
    "# Training loop\n",
    "for epoch in trange(N_EPOCHS, desc=\"Training\"):\n",
    "    train_loss = 0.0\n",
    "    for batch in tqdm(train_loader, desc=f\"Epoch {epoch + 1} in training\", leave=False):\n",
    "        x, y, name = batch\n",
    "        x, y = x.to(device), y.to(device)\n",
    "        y_hat = model(x)\n",
    "        loss = criterion(y_hat, y)\n",
    "\n",
    "        train_loss += loss.detach().cpu().item() / len(train_loader)\n",
    "\n",
    "        optimizer.zero_grad()\n",
    "        loss.backward()\n",
    "        optimizer.step()\n",
    "\n",
    "    print(f\"Epoch {epoch + 1}/{N_EPOCHS} loss: {train_loss:.2f}\")"
   ]
  }
 ],
 "metadata": {
  "kernelspec": {
   "display_name": "conda-torch",
   "language": "python",
   "name": "python3"
  },
  "language_info": {
   "codemirror_mode": {
    "name": "ipython",
    "version": 3
   },
   "file_extension": ".py",
   "mimetype": "text/x-python",
   "name": "python",
   "nbconvert_exporter": "python",
   "pygments_lexer": "ipython3",
   "version": "3.11.4"
  }
 },
 "nbformat": 4,
 "nbformat_minor": 2
}
