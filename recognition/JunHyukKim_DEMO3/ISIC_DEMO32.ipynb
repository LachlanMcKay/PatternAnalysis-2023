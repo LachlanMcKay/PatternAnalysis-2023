{
 "cells": [
  {
   "cell_type": "code",
   "execution_count": 3,
   "id": "6230ed1d-f225-4933-aeb1-651eacdd3e61",
   "metadata": {},
   "outputs": [
    {
     "name": "stdout",
     "output_type": "stream",
     "text": [
      "Device: cuda:0\n",
      "True\n"
     ]
    }
   ],
   "source": [
    "#import modules\n",
    "import argparse\n",
    "import os\n",
    "import random\n",
    "from tkinter.tix import IMAGE\n",
    "import torch\n",
    "import torch.nn as nn\n",
    "import torch.nn.parallel\n",
    "import torch.optim as optim\n",
    "import torch.utils.data\n",
    "import torchvision.datasets as dset\n",
    "import torchvision.transforms as transforms\n",
    "from sklearn.utils import shuffle\n",
    "from sklearn.model_selection import train_test_split\n",
    "\n",
    "# Device\n",
    "CUDA_DEVICE_NUM = 0\n",
    "DEVICE = torch.device('cuda:0' if torch.cuda.is_available() else 'cpu')\n",
    "print('Device:', DEVICE)\n",
    "print(torch.cuda.is_available())\n",
    "\n",
    "# Hyperparameters\n",
    "GENERATOR_LEARNING_RATE = 0.0002\n",
    "DISCRIMINATOR_LEARNING_RATE = 0.0002\n",
    "TRAINDATA = \"ISIC/ISIC-2017_Training_Data\"\n",
    "TESTDATA = \"ISIC/ISIC-2017_Test_v2_Data\"\n",
    "VALIDDATA = \"ISIC/ISIC-2017_Validation_Data\"\n",
    "NUM_EPOCHS = 1\n",
    "BATCH_SIZE = 128\n",
    "WORKERS = 4\n",
    "FEATURES_DISC = 64\n",
    "FEATURES_GEN = 64\n",
    "BATCH_SIZE = 128\n",
    "IMAGE_SIZE = 64\n",
    "CHANNELS_IMG = 1\n",
    "NOISE_DIM = 100"
   ]
  },
  {
   "cell_type": "code",
   "execution_count": 5,
   "id": "f1cf9970",
   "metadata": {},
   "outputs": [
    {
     "name": "stdout",
     "output_type": "stream",
     "text": [
      "<torch.utils.data.dataloader.DataLoader object at 0x000001F307BE8610>\n"
     ]
    }
   ],
   "source": [
    "\n",
    "train_dataset = dset.ImageFolder(root=TRAINDATA,\n",
    "                           transform=transforms.Compose([\n",
    "                               transforms.Resize(IMAGE_SIZE),\n",
    "                               transforms.CenterCrop(IMAGE_SIZE),\n",
    "                               transforms.ToTensor(),\n",
    "                               transforms.Normalize((0.5, 0.5, 0.5), (0.5, 0.5, 0.5)),\n",
    "                           ]))\n",
    "# Create the dataloader\n",
    "train_dataloader = torch.utils.data.DataLoader(train_dataset, batch_size=BATCH_SIZE,\n",
    "                                         shuffle=True, num_workers=WORKERS)\n",
    "\n",
    "test_dataset = dset.ImageFolder(root=TESTDATA,\n",
    "                           transform=transforms.Compose([\n",
    "                               transforms.Resize(IMAGE_SIZE),\n",
    "                               transforms.CenterCrop(IMAGE_SIZE),\n",
    "                               transforms.ToTensor(),\n",
    "                               transforms.Normalize((0.5, 0.5, 0.5), (0.5, 0.5, 0.5)),\n",
    "                           ]))x\n",
    "# Create the dataloader\n",
    "test_dataloader = torch.utils.data.DataLoader(test_dataset, batch_size=BATCH_SIZE,\n",
    "                                         shuffle=True, num_workers=WORKERS)\n",
    "\n",
    "valid_dataset = dset.ImageFolder(root=VALIDDATA,\n",
    "                           transform=transforms.Compose([\n",
    "                               transforms.Resize(IMAGE_SIZE),\n",
    "                               transforms.CenterCrop(IMAGE_SIZE),\n",
    "                               transforms.ToTensor(),\n",
    "                               transforms.Normalize((0.5, 0.5, 0.5), (0.5, 0.5, 0.5)),\n",
    "                           ]))x\n",
    "# Create the dataloader\n",
    "test_dataloader = torch.utils.data.DataLoader(valid_dataset, batch_size=BATCH_SIZE,\n",
    "                                         shuffle=True, num_workers=WORKERS)\n"
   ]
  }
 ],
 "metadata": {
  "kernelspec": {
   "display_name": "Python 3 (ipykernel)",
   "language": "python",
   "name": "python3"
  },
  "language_info": {
   "codemirror_mode": {
    "name": "ipython",
    "version": 3
   },
   "file_extension": ".py",
   "mimetype": "text/x-python",
   "name": "python",
   "nbconvert_exporter": "python",
   "pygments_lexer": "ipython3",
   "version": "3.11.5"
  }
 },
 "nbformat": 4,
 "nbformat_minor": 5
}
