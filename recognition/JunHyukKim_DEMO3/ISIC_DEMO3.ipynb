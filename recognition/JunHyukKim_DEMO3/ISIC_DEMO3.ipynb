{
 "cells": [
  {
   "cell_type": "code",
   "execution_count": 75,
   "id": "6230ed1d-f225-4933-aeb1-651eacdd3e61",
   "metadata": {},
   "outputs": [
    {
     "name": "stdout",
     "output_type": "stream",
     "text": [
      "Device: cuda:0\n",
      "True\n"
     ]
    }
   ],
   "source": [
    "#import modules\n",
    "import argparse\n",
    "import os\n",
    "import random\n",
    "import numpy as np\n",
    "from tkinter.tix import IMAGE\n",
    "\n",
    "import torch\n",
    "import torch.nn as nn\n",
    "import torch.nn.functional as F\n",
    "import torch.nn.parallel\n",
    "import torch.optim as optim\n",
    "import torch.utils.data\n",
    "import torchvision\n",
    "import torchvision.datasets as dset\n",
    "import torchvision.transforms as transforms\n",
    "from torch.utils.data import Dataset\n",
    "import pandas as pd\n",
    "import matplotlib.pyplot as plt\n",
    "import torchvision.transforms.functional as TF\n",
    "\n",
    "from sklearn.utils import shuffle\n",
    "from sklearn.model_selection import train_test_split\n",
    "from glob import glob\n",
    "\n",
    "from PIL import Image\n",
    "\n",
    "# Device\n",
    "CUDA_DEVICE_NUM = 0\n",
    "DEVICE = torch.device('cuda:0' if torch.cuda.is_available() else 'cpu')\n",
    "print('Device:', DEVICE)\n",
    "print(torch.cuda.is_available())\n",
    "\n",
    "# Hyperparameters\n",
    "LEARNING_RATE = 0.0001\n",
    "TRAINDATA = \"ISIC\\ISIC-2017_Training_Data\"\n",
    "TESTDATA = \"ISIC\\ISIC-2017_Test_v2_Data\"\n",
    "VALIDDATA = \"ISIC\\ISIC-2017_Validation_Data\"\n",
    "NUM_EPOCHS = 3\n",
    "BATCH_SIZE = 1\n",
    "WORKERS = 4\n"
   ]
  },
  {
   "cell_type": "code",
   "execution_count": 76,
   "id": "0acb2314",
   "metadata": {},
   "outputs": [],
   "source": [
    "class CustomDataset(Dataset):\n",
    "    \"\"\"Face Landmarks dataset.\"\"\"\n",
    "\n",
    "    def __init__(self, csv_file, root_dir, transform=None):\n",
    "        \"\"\"\n",
    "        Arguments:\n",
    "            csv_file (string): Path to the csv file with annotations.\n",
    "            root_dir (string): Directory with all the images.\n",
    "            transform (callable, optional): Optional transform to be applied\n",
    "                on a sample.\n",
    "        \"\"\"\n",
    "        self.root_dir = root_dir\n",
    "        self.transform = transform\n",
    "        self.image_files = sorted(glob(os.path.join(self.root_dir+\"\\ISIC-2017_Training_Data\", \"*.jpg\")))\n",
    "        self.landmarks_frame = pd.read_csv(csv_file)\n",
    "        \n",
    "    def __len__(self):\n",
    "        return len(self.landmarks_frame)\n",
    "        \n",
    "    def __getitem__(self, idx):\n",
    "        if torch.is_tensor(idx):\n",
    "            idx = idx.tolist()\n",
    "        img_name = os.path.join(self.root_dir,\n",
    "                                self.landmarks_frame.iloc[idx, 0])\n",
    "        \n",
    "        jpg_path = self.image_files[idx]\n",
    "\n",
    "        image = Image.open(jpg_path)\n",
    "        landmarks = self.landmarks_frame.iloc[idx, 1:]\n",
    "        landmarks = np.array([landmarks], dtype=float).reshape(-1, 2)\n",
    "        sample = {'image': image, 'landmarks': landmarks}\n",
    "        \n",
    "        if self.transform:\n",
    "            sample['image'] = self.transform(sample['image'])\n",
    "        \n",
    "        return sample"
   ]
  },
  {
   "cell_type": "code",
   "execution_count": 97,
   "id": "f1cf9970",
   "metadata": {},
   "outputs": [
    {
     "name": "stdout",
     "output_type": "stream",
     "text": [
      "{'image': tensor([[[ 0.8447,  0.8447,  0.8447,  ..., -2.1179, -2.1179, -2.1179],\n",
      "         [ 0.8447,  0.8447,  0.8447,  ..., -2.1179, -2.1179, -2.1179],\n",
      "         [ 0.8618,  0.8618,  0.8618,  ..., -2.1179, -2.1179, -2.1179],\n",
      "         ...,\n",
      "         [ 0.9988,  0.9817,  0.9646,  ...,  0.8789,  0.8618,  0.8618],\n",
      "         [ 1.0331,  0.9988,  0.9817,  ...,  0.8618,  0.8447,  0.8447],\n",
      "         [ 0.9988,  0.9988,  0.9646,  ...,  0.8789,  0.8618,  0.8618]],\n",
      "\n",
      "        [[ 0.9930,  0.9930,  0.9930,  ..., -2.0357, -2.0357, -2.0357],\n",
      "         [ 0.9930,  0.9930,  0.9930,  ..., -2.0357, -2.0357, -2.0357],\n",
      "         [ 0.9755,  0.9755,  0.9755,  ..., -2.0357, -2.0357, -2.0357],\n",
      "         ...,\n",
      "         [ 1.0630,  1.0455,  1.0455,  ...,  0.9930,  0.9755,  0.9755],\n",
      "         [ 1.0805,  1.0455,  1.0280,  ...,  0.9755,  0.9580,  0.9580],\n",
      "         [ 1.0455,  1.0455,  1.0105,  ...,  0.9930,  0.9755,  0.9755]],\n",
      "\n",
      "        [[ 1.3851,  1.3851,  1.3851,  ..., -1.8044, -1.8044, -1.8044],\n",
      "         [ 1.3851,  1.3851,  1.3851,  ..., -1.8044, -1.8044, -1.8044],\n",
      "         [ 1.3851,  1.3851,  1.3851,  ..., -1.8044, -1.8044, -1.8044],\n",
      "         ...,\n",
      "         [ 1.3502,  1.3154,  1.3154,  ...,  1.2631,  1.2457,  1.2457],\n",
      "         [ 1.3677,  1.3328,  1.3154,  ...,  1.2457,  1.2282,  1.2282],\n",
      "         [ 1.3328,  1.3328,  1.2980,  ...,  1.2631,  1.2457,  1.2457]]]), 'landmarks': array([[0., 0.]])}\n",
      "torch.Size([3, 224, 224])\n",
      "(1, 2)\n",
      "<enumerate object at 0x0000024CF52B36A0>\n",
      "{'image': tensor([[[[-2.1179, -2.1179, -2.1179,  ...,  0.5878,  0.5878,  0.5878],\n",
      "          [-2.1179, -2.1179, -2.1179,  ...,  0.5878,  0.5878,  0.5878],\n",
      "          [-2.1179, -2.1179, -2.1179,  ...,  0.6049,  0.5878,  0.5878],\n",
      "          ...,\n",
      "          [ 0.5707,  0.5878,  0.5878,  ..., -2.1179, -2.1179, -2.1179],\n",
      "          [ 0.5707,  0.5707,  0.5878,  ..., -2.1179, -2.1179, -2.1179],\n",
      "          [ 0.5707,  0.5707,  0.5707,  ..., -2.1179, -2.1179, -2.1179]],\n",
      "\n",
      "         [[-2.0357, -2.0357, -2.0357,  ...,  0.2052,  0.2402,  0.2402],\n",
      "          [-2.0357, -2.0357, -2.0357,  ...,  0.2052,  0.2402,  0.2402],\n",
      "          [-2.0357, -2.0357, -2.0357,  ...,  0.2227,  0.2402,  0.2577],\n",
      "          ...,\n",
      "          [ 0.1877,  0.1877,  0.1877,  ..., -2.0357, -2.0357, -2.0357],\n",
      "          [ 0.2227,  0.1702,  0.1702,  ..., -2.0357, -2.0357, -2.0357],\n",
      "          [ 0.2052,  0.1877,  0.1176,  ..., -2.0357, -2.0357, -2.0357]],\n",
      "\n",
      "         [[-1.8044, -1.8044, -1.8044,  ...,  0.2696,  0.3045,  0.3219],\n",
      "          [-1.8044, -1.8044, -1.8044,  ...,  0.2871,  0.3393,  0.3393],\n",
      "          [-1.8044, -1.8044, -1.8044,  ...,  0.3045,  0.3219,  0.3568],\n",
      "          ...,\n",
      "          [ 0.1825,  0.1651,  0.1476,  ..., -1.8044, -1.8044, -1.8044],\n",
      "          [ 0.1999,  0.1476,  0.1302,  ..., -1.8044, -1.8044, -1.8044],\n",
      "          [ 0.1825,  0.1651,  0.0779,  ..., -1.8044, -1.8044, -1.8044]]]]), 'landmarks': tensor([[[1., 0.]]], dtype=torch.float64)}\n",
      "<torch.utils.data.dataloader.DataLoader object at 0x0000024CF314E390>\n"
     ]
    }
   ],
   "source": [
    "\n",
    "train_dataset = CustomDataset(csv_file = \"ISIC-2017_Training_Part3_GroundTruth.csv\",\n",
    "                               root_dir=TRAINDATA,\n",
    "                                transform=transforms.Compose([\n",
    "                                transforms.RandomRotation(30),\n",
    "                                transforms.RandomResizedCrop(224),\n",
    "                                transforms.RandomHorizontalFlip(),\n",
    "                                transforms.ToTensor(),\n",
    "                                transforms.Normalize([0.485, 0.456, 0.406],\n",
    "                                                    [0.229, 0.224, 0.225])]))\n",
    "\n",
    "train_dataloader = torch.utils.data.DataLoader(train_dataset, batch_size=BATCH_SIZE,\n",
    "                                         shuffle=True)\n",
    "\n",
    "test_dataset = CustomDataset(csv_file = \"ISIC-2017_Test_v2_Part3_GroundTruth.csv\",\n",
    "                               root_dir=TRAINDATA,\n",
    "                                transform=transforms.Compose([\n",
    "                                transforms.RandomRotation(30),\n",
    "                                transforms.RandomResizedCrop(224),\n",
    "                                transforms.RandomHorizontalFlip(),\n",
    "                                transforms.ToTensor(),\n",
    "                                transforms.Normalize([0.485, 0.456, 0.406],\n",
    "                                                    [0.229, 0.224, 0.225])]))\n",
    "\n",
    "test_dataloader = torch.utils.data.DataLoader(test_dataset, batch_size=BATCH_SIZE,\n",
    "                                         shuffle=True)\n",
    "\n",
    "valid_dataset = CustomDataset(csv_file = \"ISIC-2017_Validation_Part3_GroundTruth.csv\",\n",
    "                               root_dir=TRAINDATA,\n",
    "                                transform=transforms.Compose([\n",
    "                                transforms.RandomRotation(30),\n",
    "                                transforms.RandomResizedCrop(224),\n",
    "                                transforms.RandomHorizontalFlip(),\n",
    "                                transforms.ToTensor(),\n",
    "                                transforms.Normalize([0.485, 0.456, 0.406],\n",
    "                                                    [0.229, 0.224, 0.225])]))\n",
    "\n",
    "valid_dataloader = torch.utils.data.DataLoader(valid_dataset, batch_size=BATCH_SIZE,\n",
    "                                         shuffle=True)\n",
    "\n",
    "print(train_dataset.__getitem__(1))\n",
    "print(train_dataset.__getitem__(1)[\"image\"].shape)\n",
    "print(train_dataset.__getitem__(1)[\"landmarks\"].shape)\n",
    "print(enumerate(train_dataloader))\n",
    "dataiter = iter(train_dataloader)\n",
    "data = next(dataiter)\n",
    "print(data)\n",
    "print(train_dataloader)\n",
    "\n",
    "\n"
   ]
  },
  {
   "cell_type": "code",
   "execution_count": 78,
   "id": "067d2963",
   "metadata": {},
   "outputs": [],
   "source": [
    "def show_landmarks(image, landmarks):\n",
    "\n",
    "    \"\"\"Show image with landmarks\"\"\"\n",
    "    image = image.numpy()\n",
    "    plt.imshow(np.transpose(image, (1, 2, 0)), interpolation='nearest')\n",
    "    plt.scatter(landmarks[:, 0], landmarks[:, 1], s=10, marker='.', c='r')\n",
    "    plt.pause(0.001)  # pause a bit so that plots are updated\n"
   ]
  },
  {
   "cell_type": "code",
   "execution_count": 79,
   "id": "f2e48156",
   "metadata": {},
   "outputs": [
    {
     "name": "stderr",
     "output_type": "stream",
     "text": [
      "Clipping input data to the valid range for imshow with RGB data ([0..1] for floats or [0..255] for integers).\n"
     ]
    },
    {
     "name": "stdout",
     "output_type": "stream",
     "text": [
      "0 torch.Size([3, 224, 224]) (1, 2)\n"
     ]
    },
    {
     "data": {
      "image/png": "[encoded data removed]",
      "text/plain": [
       "<Figure size 640x480 with 1 Axes>"
      ]
     },
     "metadata": {},
     "output_type": "display_data"
    },
    {
     "name": "stderr",
     "output_type": "stream",
     "text": [
      "Clipping input data to the valid range for imshow with RGB data ([0..1] for floats or [0..255] for integers).\n"
     ]
    },
    {
     "name": "stdout",
     "output_type": "stream",
     "text": [
      "1 torch.Size([3, 224, 224]) (1, 2)\n"
     ]
    },
    {
     "data": {
      "image/png": "[encoded data removed]",
      "text/plain": [
       "<Figure size 640x480 with 1 Axes>"
      ]
     },
     "metadata": {},
     "output_type": "display_data"
    },
    {
     "name": "stderr",
     "output_type": "stream",
     "text": [
      "Clipping input data to the valid range for imshow with RGB data ([0..1] for floats or [0..255] for integers).\n"
     ]
    },
    {
     "name": "stdout",
     "output_type": "stream",
     "text": [
      "2 torch.Size([3, 224, 224]) (1, 2)\n"
     ]
    },
    {
     "data": {
      "image/png": "[encoded data removed]",
      "text/plain": [
       "<Figure size 640x480 with 1 Axes>"
      ]
     },
     "metadata": {},
     "output_type": "display_data"
    },
    {
     "name": "stdout",
     "output_type": "stream",
     "text": [
      "3"
     ]
    },
    {
     "name": "stderr",
     "output_type": "stream",
     "text": [
      "Clipping input data to the valid range for imshow with RGB data ([0..1] for floats or [0..255] for integers).\n"
     ]
    },
    {
     "name": "stdout",
     "output_type": "stream",
     "text": [
      " torch.Size([3, 224, 224]) (1, 2)\n"
     ]
    },
    {
     "data": {
      "image/png": "[encoded data removed]",
      "text/plain": [
       "<Figure size 640x480 with 1 Axes>"
      ]
     },
     "metadata": {},
     "output_type": "display_data"
    }
   ],
   "source": [
    "\n",
    "for i, sample in enumerate(train_dataset):\n",
    "    print(i, sample['image'].shape, sample['landmarks'].shape)\n",
    "\n",
    "    ax = plt.subplot(1, 4, i + 1)\n",
    "    plt.tight_layout()\n",
    "    ax.set_title('Sample #{}'.format(i))\n",
    "    ax.axis('off')\n",
    "    show_landmarks(**sample)\n",
    "\n",
    "    if i == 3:\n",
    "        plt.show()\n",
    "\n",
    "        break"
   ]
  },
  {
   "cell_type": "code",
   "execution_count": 115,
   "id": "98e3bd64",
   "metadata": {},
   "outputs": [],
   "source": [
    "class DoubleConv(nn.Module):\n",
    "    def __init__(self,in_channels, out_channels):\n",
    "        super(DoubleConv,self).__init__()\n",
    "        self.conv = nn.Sequential(\n",
    "            nn.Conv2d(in_channels, out_channels, 3, padding=1,stride=1,bias=False),\n",
    "            nn.BatchNorm2d(out_channels),\n",
    "            nn.ReLU(inplace=True),\n",
    "            nn.Conv2d(out_channels, out_channels, 3, padding=1,stride=1,bias=False),\n",
    "            nn.BatchNorm2d(out_channels),\n",
    "            nn.ReLU(inplace=True)\n",
    "    )\n",
    "    def forward(self, x):\n",
    "        return self.conv(x)\n"
   ]
  },
  {
   "cell_type": "code",
   "execution_count": 117,
   "id": "5a49a50d",
   "metadata": {},
   "outputs": [
    {
     "name": "stdout",
     "output_type": "stream",
     "text": [
      "\n",
      "\n",
      "\n",
      "\n",
      "torch.Size([3, 1, 160, 160])\n",
      "torch.Size([3, 3, 160, 160])\n",
      "torch.Size([3, 1, 160, 160])\n"
     ]
    }
   ],
   "source": [
    "class UNet(nn.Module):\n",
    "    def __init__(self, input_channels=3,out_channels=1,features=[64,128,256,512]):\n",
    "        super(UNet, self).__init__()\n",
    "        self.ups = nn.ModuleList()\n",
    "        self.downs = nn.ModuleList()\n",
    "        self.pool = nn.MaxPool2d(2,2)\n",
    "        for feature in features:\n",
    "            self.downs.append(DoubleConv(input_channels, feature))    \n",
    "            input_channels = feature    \n",
    "        \n",
    "        for feature in reversed(features):\n",
    "            print()\n",
    "            self.ups.append(\n",
    "                nn.ConvTranspose2d(\n",
    "                    feature*2,feature,kernel_size=2,stride=2\n",
    "                )\n",
    "            )\n",
    "            self.ups.append(DoubleConv(feature*2,feature))\n",
    "        self.bottleneck = DoubleConv(features[-1],features[-1]*2)\n",
    "        self.final_conv = nn.Conv2d(features[0],out_channels,kernel_size=1)\n",
    "        #self.l1 = nn.Linear(input_size, hidden_size) \n",
    "    \n",
    "    \n",
    "    def forward(self, x):\n",
    "        skip_connections = []\n",
    "\n",
    "        for down in self.downs:\n",
    "            x = down(x)\n",
    "            skip_connections.append(x)\n",
    "            x = self.pool(x)\n",
    "\n",
    "        x = self.bottleneck(x)\n",
    "        skip_connections = skip_connections[::-1]\n",
    "\n",
    "        for idx in range(0, len(self.ups), 2):\n",
    "            x = self.ups[idx](x)\n",
    "            skip_connection = skip_connections[idx//2]\n",
    "\n",
    "            if x.shape != skip_connection.shape:\n",
    "                x = TF.resize(x, size=skip_connection.shape[2:])\n",
    "\n",
    "            concat_skip = torch.cat((skip_connection, x), dim=1)\n",
    "            x = self.ups[idx+1](concat_skip)\n",
    "        return self.final_conv(x)\n",
    "\n",
    "def test():\n",
    "    x = torch.randn((3, 3, 160, 160))\n",
    "    model = UNet(input_channels=3, out_channels=1)\n",
    "    preds = model(x)\n",
    "    print(x.shape)\n",
    "    print(preds.shape)\n",
    "    #assert preds.shape == x.shape\n",
    "test()"
   ]
  },
  {
   "cell_type": "code",
   "execution_count": null,
   "id": "b2b7fe6a",
   "metadata": {},
   "outputs": [],
   "source": []
  },
  {
   "cell_type": "markdown",
   "id": "8a734099",
   "metadata": {},
   "source": [
    "TRAIN "
   ]
  },
  {
   "cell_type": "code",
   "execution_count": 93,
   "id": "3160330f",
   "metadata": {},
   "outputs": [
    {
     "name": "stdout",
     "output_type": "stream",
     "text": [
      "\n",
      "\n",
      "\n",
      "\n",
      "2000\n"
     ]
    }
   ],
   "source": [
    "model = UNet(3,1,[64,128,256,512]) \n",
    "model = model.to(DEVICE)\n",
    "criterion = torch.nn.MSELoss()\n",
    "optimizer = torch.optim.SGD(model.parameters(), lr=LEARNING_RATE, \n",
    "                            momentum = 0.9, weight_decay = 5e-4)\n",
    "\n",
    "total_steps = len(train_dataloader)\n",
    "scheduler = torch.optim.lr_scheduler.OneCycleLR(optimizer,max_lr = LEARNING_RATE, \n",
    "                                steps_per_epoch = total_steps, epochs = NUM_EPOCHS)\n",
    "print(total_steps)"
   ]
  },
  {
   "cell_type": "code",
   "execution_count": 83,
   "id": "27f1cf1d",
   "metadata": {},
   "outputs": [
    {
     "name": "stdout",
     "output_type": "stream",
     "text": [
      "> Training\n"
     ]
    }
   ],
   "source": [
    "model.train()\n",
    "print(\"> Training\")"
   ]
  },
  {
   "cell_type": "code",
   "execution_count": 84,
   "id": "3e0d3b61",
   "metadata": {},
   "outputs": [
    {
     "name": "stdout",
     "output_type": "stream",
     "text": [
      "<enumerate object at 0x0000024CF52B34C0>\n",
      "<torch.utils.data.dataloader.DataLoader object at 0x0000024C1B407E50>\n"
     ]
    }
   ],
   "source": [
    "print(enumerate(train_dataloader))\n",
    "print(train_dataloader)"
   ]
  },
  {
   "cell_type": "code",
   "execution_count": 98,
   "id": "e4caf371",
   "metadata": {},
   "outputs": [
    {
     "name": "stdout",
     "output_type": "stream",
     "text": [
      "torch.Size([1, 3, 224, 224])\n",
      "torch.Size([1, 3, 224, 224])\n",
      "torch.Size([1, 1, 224, 224])\n",
      "1 tensor([[[[-6.3416e-01,  1.3205e-04,  3.3842e-01,  ...,  6.8583e-01,\n",
      "            4.5125e-02,  5.2014e-01],\n",
      "          [-4.2335e-02,  2.8007e-01, -1.7015e+00,  ...,  1.7963e-01,\n",
      "            3.1758e-01,  6.8661e-01],\n",
      "          [ 4.0841e-01,  1.5238e+00,  8.3609e-01,  ...,  7.1014e-01,\n",
      "            1.1374e+00,  7.1231e-01],\n",
      "          ...,\n",
      "          [-4.0127e-01, -2.1876e-02, -1.3027e+00,  ..., -5.9824e-01,\n",
      "           -7.7359e-01, -2.3807e-01],\n",
      "          [-1.1986e-01,  6.9718e-01,  1.1520e+00,  ...,  3.7598e+00,\n",
      "            2.2011e+00,  1.1129e+00],\n",
      "          [ 7.5503e-01,  5.7923e-01,  4.1685e-01,  ...,  1.2492e+00,\n",
      "            9.2655e-01,  1.7091e-01]]]], device='cuda:0',\n",
      "       grad_fn=<ConvolutionBackward0>)\n",
      "2 tensor([[[0., 0.]]], device='cuda:0', dtype=torch.float64)\n"
     ]
    },
    {
     "name": "stderr",
     "output_type": "stream",
     "text": [
      "c:\\Users\\John\\AppData\\Local\\Programs\\Python\\Python311\\Lib\\site-packages\\torch\\nn\\modules\\loss.py:536: UserWarning: Using a target size (torch.Size([1, 1, 2])) that is different to the input size (torch.Size([1, 1, 224, 224])). This will likely lead to incorrect results due to broadcasting. Please ensure they have the same size.\n",
      "  return F.mse_loss(input, target, reduction=self.reduction)\n"
     ]
    },
    {
     "ename": "RuntimeError",
     "evalue": "The size of tensor a (224) must match the size of tensor b (2) at non-singleton dimension 3",
     "output_type": "error",
     "traceback": [
      "\u001b[1;31m---------------------------------------------------------------------------\u001b[0m",
      "\u001b[1;31mRuntimeError\u001b[0m                              Traceback (most recent call last)",
      "\u001b[1;32md:\\8.1.COMPSC_WORK\\COMP3710_DEMO3\\PatternAnalysis-2023\\recognition\\JunHyukKim_DEMO3\\ISIC_DEMO3.ipynb Cell 12\u001b[0m line \u001b[0;36m1\n\u001b[0;32m      <a href='vscode-notebook-cell:/d%3A/8.1.COMPSC_WORK/COMP3710_DEMO3/PatternAnalysis-2023/recognition/JunHyukKim_DEMO3/ISIC_DEMO3.ipynb#X16sZmlsZQ%3D%3D?line=8'>9</a>\u001b[0m \u001b[39mprint\u001b[39m(\u001b[39m1\u001b[39m,outputs)\n\u001b[0;32m     <a href='vscode-notebook-cell:/d%3A/8.1.COMPSC_WORK/COMP3710_DEMO3/PatternAnalysis-2023/recognition/JunHyukKim_DEMO3/ISIC_DEMO3.ipynb#X16sZmlsZQ%3D%3D?line=9'>10</a>\u001b[0m \u001b[39mprint\u001b[39m(\u001b[39m2\u001b[39m,labels)\n\u001b[1;32m---> <a href='vscode-notebook-cell:/d%3A/8.1.COMPSC_WORK/COMP3710_DEMO3/PatternAnalysis-2023/recognition/JunHyukKim_DEMO3/ISIC_DEMO3.ipynb#X16sZmlsZQ%3D%3D?line=10'>11</a>\u001b[0m loss \u001b[39m=\u001b[39m criterion(outputs, labels)\n\u001b[0;32m     <a href='vscode-notebook-cell:/d%3A/8.1.COMPSC_WORK/COMP3710_DEMO3/PatternAnalysis-2023/recognition/JunHyukKim_DEMO3/ISIC_DEMO3.ipynb#X16sZmlsZQ%3D%3D?line=11'>12</a>\u001b[0m \u001b[39m#print(i)\u001b[39;00m\n\u001b[0;32m     <a href='vscode-notebook-cell:/d%3A/8.1.COMPSC_WORK/COMP3710_DEMO3/PatternAnalysis-2023/recognition/JunHyukKim_DEMO3/ISIC_DEMO3.ipynb#X16sZmlsZQ%3D%3D?line=12'>13</a>\u001b[0m \u001b[39m# Backward and optimize\u001b[39;00m\n\u001b[0;32m     <a href='vscode-notebook-cell:/d%3A/8.1.COMPSC_WORK/COMP3710_DEMO3/PatternAnalysis-2023/recognition/JunHyukKim_DEMO3/ISIC_DEMO3.ipynb#X16sZmlsZQ%3D%3D?line=13'>14</a>\u001b[0m optimizer\u001b[39m.\u001b[39mzero_grad()\n",
      "File \u001b[1;32mc:\\Users\\John\\AppData\\Local\\Programs\\Python\\Python311\\Lib\\site-packages\\torch\\nn\\modules\\module.py:1501\u001b[0m, in \u001b[0;36mModule._call_impl\u001b[1;34m(self, *args, **kwargs)\u001b[0m\n\u001b[0;32m   1496\u001b[0m \u001b[39m# If we don't have any hooks, we want to skip the rest of the logic in\u001b[39;00m\n\u001b[0;32m   1497\u001b[0m \u001b[39m# this function, and just call forward.\u001b[39;00m\n\u001b[0;32m   1498\u001b[0m \u001b[39mif\u001b[39;00m \u001b[39mnot\u001b[39;00m (\u001b[39mself\u001b[39m\u001b[39m.\u001b[39m_backward_hooks \u001b[39mor\u001b[39;00m \u001b[39mself\u001b[39m\u001b[39m.\u001b[39m_backward_pre_hooks \u001b[39mor\u001b[39;00m \u001b[39mself\u001b[39m\u001b[39m.\u001b[39m_forward_hooks \u001b[39mor\u001b[39;00m \u001b[39mself\u001b[39m\u001b[39m.\u001b[39m_forward_pre_hooks\n\u001b[0;32m   1499\u001b[0m         \u001b[39mor\u001b[39;00m _global_backward_pre_hooks \u001b[39mor\u001b[39;00m _global_backward_hooks\n\u001b[0;32m   1500\u001b[0m         \u001b[39mor\u001b[39;00m _global_forward_hooks \u001b[39mor\u001b[39;00m _global_forward_pre_hooks):\n\u001b[1;32m-> 1501\u001b[0m     \u001b[39mreturn\u001b[39;00m forward_call(\u001b[39m*\u001b[39;49margs, \u001b[39m*\u001b[39;49m\u001b[39m*\u001b[39;49mkwargs)\n\u001b[0;32m   1502\u001b[0m \u001b[39m# Do not call functions when jit is used\u001b[39;00m\n\u001b[0;32m   1503\u001b[0m full_backward_hooks, non_full_backward_hooks \u001b[39m=\u001b[39m [], []\n",
      "File \u001b[1;32mc:\\Users\\John\\AppData\\Local\\Programs\\Python\\Python311\\Lib\\site-packages\\torch\\nn\\modules\\loss.py:536\u001b[0m, in \u001b[0;36mMSELoss.forward\u001b[1;34m(self, input, target)\u001b[0m\n\u001b[0;32m    535\u001b[0m \u001b[39mdef\u001b[39;00m \u001b[39mforward\u001b[39m(\u001b[39mself\u001b[39m, \u001b[39minput\u001b[39m: Tensor, target: Tensor) \u001b[39m-\u001b[39m\u001b[39m>\u001b[39m Tensor:\n\u001b[1;32m--> 536\u001b[0m     \u001b[39mreturn\u001b[39;00m F\u001b[39m.\u001b[39;49mmse_loss(\u001b[39minput\u001b[39;49m, target, reduction\u001b[39m=\u001b[39;49m\u001b[39mself\u001b[39;49m\u001b[39m.\u001b[39;49mreduction)\n",
      "File \u001b[1;32mc:\\Users\\John\\AppData\\Local\\Programs\\Python\\Python311\\Lib\\site-packages\\torch\\nn\\functional.py:3294\u001b[0m, in \u001b[0;36mmse_loss\u001b[1;34m(input, target, size_average, reduce, reduction)\u001b[0m\n\u001b[0;32m   3291\u001b[0m \u001b[39mif\u001b[39;00m size_average \u001b[39mis\u001b[39;00m \u001b[39mnot\u001b[39;00m \u001b[39mNone\u001b[39;00m \u001b[39mor\u001b[39;00m reduce \u001b[39mis\u001b[39;00m \u001b[39mnot\u001b[39;00m \u001b[39mNone\u001b[39;00m:\n\u001b[0;32m   3292\u001b[0m     reduction \u001b[39m=\u001b[39m _Reduction\u001b[39m.\u001b[39mlegacy_get_string(size_average, reduce)\n\u001b[1;32m-> 3294\u001b[0m expanded_input, expanded_target \u001b[39m=\u001b[39m torch\u001b[39m.\u001b[39;49mbroadcast_tensors(\u001b[39minput\u001b[39;49m, target)\n\u001b[0;32m   3295\u001b[0m \u001b[39mreturn\u001b[39;00m torch\u001b[39m.\u001b[39m_C\u001b[39m.\u001b[39m_nn\u001b[39m.\u001b[39mmse_loss(expanded_input, expanded_target, _Reduction\u001b[39m.\u001b[39mget_enum(reduction))\n",
      "File \u001b[1;32mc:\\Users\\John\\AppData\\Local\\Programs\\Python\\Python311\\Lib\\site-packages\\torch\\functional.py:74\u001b[0m, in \u001b[0;36mbroadcast_tensors\u001b[1;34m(*tensors)\u001b[0m\n\u001b[0;32m     72\u001b[0m \u001b[39mif\u001b[39;00m has_torch_function(tensors):\n\u001b[0;32m     73\u001b[0m     \u001b[39mreturn\u001b[39;00m handle_torch_function(broadcast_tensors, tensors, \u001b[39m*\u001b[39mtensors)\n\u001b[1;32m---> 74\u001b[0m \u001b[39mreturn\u001b[39;00m _VF\u001b[39m.\u001b[39;49mbroadcast_tensors(tensors)\n",
      "\u001b[1;31mRuntimeError\u001b[0m: The size of tensor a (224) must match the size of tensor b (2) at non-singleton dimension 3"
     ]
    }
   ],
   "source": [
    "\n",
    "\n",
    "for epoch in range(NUM_EPOCHS):\n",
    "    for i, batch in enumerate(train_dataloader):\n",
    "        images, labels = batch[\"image\"], batch[\"landmarks\"]\n",
    "        print(images.shape)\n",
    "        images = images.to(DEVICE)\n",
    "        labels = labels.to(DEVICE)\n",
    "        print(images.shape)\n",
    "        outputs = model(images)\n",
    "        print(1,outputs)\n",
    "        print(2,labels)\n",
    "        loss = criterion(outputs, labels)\n",
    "        #print(i)\n",
    "        # Backward and optimize\n",
    "        optimizer.zero_grad()\n",
    "        loss.backward()\n",
    "        optimizer.step()\n",
    "        print(i)\n",
    "        if (i+1) % 100 == 0:\n",
    "            print (f'Epoch [{epoch+1}/{NUM_EPOCHS}], Step [{i+1}/{total_steps}], Loss: {loss.item():.5f}')\n",
    "        scheduler.step()\n",
    "\n",
    "print(\"Training took \" +  \" secs\")\n",
    "print(\"> Testing\")"
   ]
  },
  {
   "cell_type": "code",
   "execution_count": null,
   "id": "3f35d333",
   "metadata": {},
   "outputs": [],
   "source": []
  }
 ],
 "metadata": {
  "kernelspec": {
   "display_name": "Python 3 (ipykernel)",
   "language": "python",
   "name": "python3"
  },
  "language_info": {
   "codemirror_mode": {
    "name": "ipython",
    "version": 3
   },
   "file_extension": ".py",
   "mimetype": "text/x-python",
   "name": "python",
   "nbconvert_exporter": "python",
   "pygments_lexer": "ipython3",
   "version": "3.11.5"
  }
 },
 "nbformat": 4,
 "nbformat_minor": 5
}
