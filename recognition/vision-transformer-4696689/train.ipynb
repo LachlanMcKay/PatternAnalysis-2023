{
 "cells": [
  {
   "cell_type": "code",
   "execution_count": 1,
   "id": "73ebb771",
   "metadata": {},
   "outputs": [
    {
     "name": "stderr",
     "output_type": "stream",
     "text": [
      "/Users/oliver/opt/anaconda3/lib/python3.9/site-packages/torchvision/io/image.py:13: UserWarning: Failed to load image Python extension: 'dlopen(/Users/oliver/opt/anaconda3/lib/python3.9/site-packages/torchvision/image.so, 6): Library not loaded: @rpath/libpng16.16.dylib\n",
      "  Referenced from: /Users/oliver/opt/anaconda3/lib/python3.9/site-packages/torchvision/image.so\n",
      "  Reason: Incompatible library version: image.so requires version 56.0.0 or later, but libpng16.16.dylib provides version 54.0.0'If you don't plan on using image functionality from `torchvision.io`, you can ignore this warning. Otherwise, there might be something wrong with your environment. Did you have `libjpeg` or `libpng` installed before building `torchvision` from source?\n",
      "  warn(\n"
     ]
    }
   ],
   "source": [
    "\"\"\"\n",
    "Imports Here\n",
    "\"\"\"\n",
    "from dataset import trainloader\n",
    "from dataset import testloader\n",
    "from dataset import trainshape\n",
    "from dataset import testshape"
   ]
  },
  {
   "cell_type": "code",
   "execution_count": 2,
   "id": "df0ea69a",
   "metadata": {},
   "outputs": [],
   "source": [
    "from model import VisionTransformer\n",
    "from model import Attention\n",
    "from model import TransBlock"
   ]
  },
  {
   "cell_type": "code",
   "execution_count": 3,
   "id": "ae8aebe7",
   "metadata": {},
   "outputs": [],
   "source": [
    "TRAIN_LOSS = []\n",
    "TRAIN_ACC = []\n",
    "\n",
    "def train(model, dataloader, lossfunc, lr=0.1, momentum=0.9, batch_size=16, nepochs=10):\n",
    "    device = next(net.parameters()).device # check what device the net parameters are on\n",
    "    optimizer = optim.Adam(net.parameters(), weight_decay=1e-5, lr=lr)\n",
    "    \n",
    "    \"\"\"training\"\"\"\n",
    "    for i in range(nepochs): # for each epoch\n",
    "        epoch_loss = 0\n",
    "        model.train()\n",
    "        n_batches = 0\n",
    "        for (x_batch, y_batch) in dataloader: # for each mini-batch\n",
    "            optimizer.zero_grad()\n",
    "            loss = lossfunc(model.forward(x_batch), y_batch)\n",
    "            loss.backward()\n",
    "            optimizer.step()\n",
    "            epoch_loss += loss\n",
    "            n_batches += 1\n",
    "        epoch_loss /= n_batches\n",
    "    \n",
    "        \"\"\"evaluating\"\"\"\n",
    "        model.eval()\n",
    "        accuracy = test(net, x, y, batch_size=batch_size)\n",
    "\n",
    "        \"\"\"get performance\"\"\"\n",
    "        TRAIN_LOSS.append(epoch_loss)\n",
    "        TRAIN_ACC.append(accuracy)\n",
    "\n",
    "def test(model, dataloader, batch_size=1):\n",
    "    with torch.no_grad(): # disable automatic gradient computation for efficiency\n",
    "        device = next(net.parameters()).device\n",
    "        \n",
    "        \"\"\"make predictions\"\"\"\n",
    "        pcls = []\n",
    "        items = 0\n",
    "        for x, y in dataloader:\n",
    "            x = x.to(device)\n",
    "            torch.max(model(x), 1)[1].cpu()\n",
    "            tcls = torch.max(y, 1)[1].cpu()\n",
    "            pcls.append(tcls)\n",
    "            items += 1\n",
    "\n",
    "        \"\"\"get accuracy\"\"\"\n",
    "        pcls = torch.cat(pcls) # concat predictions on the mini-batches\n",
    "        accuracy = pcls.sum().float() / items\n",
    "        return accuracy"
   ]
  },
  {
   "cell_type": "code",
   "execution_count": 4,
   "id": "e550e8dd",
   "metadata": {},
   "outputs": [],
   "source": [
    "shape = trainshape()"
   ]
  },
  {
   "cell_type": "code",
   "execution_count": 5,
   "id": "9618c563",
   "metadata": {},
   "outputs": [
    {
     "name": "stdout",
     "output_type": "stream",
     "text": [
      "torch.Size([240, 256])\n"
     ]
    }
   ],
   "source": [
    "print(shape)"
   ]
  },
  {
   "cell_type": "code",
   "execution_count": 12,
   "id": "75a45973",
   "metadata": {},
   "outputs": [],
   "source": [
    "batchsize=16\n",
    "Np, P = trainshape()\n",
    "model = VisionTransformer(inputsize=(batchsize, Np, P), nblocks=2)"
   ]
  },
  {
   "cell_type": "code",
   "execution_count": 13,
   "id": "2114dc6c",
   "metadata": {},
   "outputs": [],
   "source": [
    "trainloader1 = trainloader(batchsize=batchsize)"
   ]
  },
  {
   "cell_type": "code",
   "execution_count": 16,
   "id": "7b54a6f0",
   "metadata": {},
   "outputs": [
    {
     "name": "stdout",
     "output_type": "stream",
     "text": [
      "tensor(1.5862, grad_fn=<NllLossBackward0>)\n",
      "90.11283302307129\n"
     ]
    }
   ],
   "source": [
    "import time\n",
    "import torch\n",
    "import torch.nn as nn\n",
    "import torch.optim as optim\n",
    "\n",
    "criterion = nn.CrossEntropyLoss()\n",
    "optimiser = optim.AdamW(model.parameters(), lr=1e-4)"
   ]
  },
  {
   "cell_type": "code",
   "execution_count": 20,
   "id": "18488555",
   "metadata": {},
   "outputs": [
    {
     "name": "stdout",
     "output_type": "stream",
     "text": [
      "tensor(0.7551, grad_fn=<NllLossBackward0>)\n",
      "97.1146309375763\n"
     ]
    }
   ],
   "source": [
    "TIMES = []\n",
    "LOSS = []\n",
    "i = 0\n",
    "criterion.zero_grad()\n",
    "out = model(x)\n",
    "loss = criterion(out, y.type(torch.LongTensor))\n",
    "print(loss)\n",
    "time0 = time.time()\n",
    "for (x, y) in trainloader1:\n",
    "    #time1 = time.time()\n",
    "    criterion.zero_grad()\n",
    "    out = model(x)\n",
    "    loss = criterion(out, y.type(torch.LongTensor))\n",
    "    LOSS.append(loss.item())\n",
    "    loss.backward()\n",
    "    optimiser.step()\n",
    "    #time2 = time.time()\n",
    "    #TIMES.append(time2-time1)\n",
    "time1 = time.time()\n",
    "print(time1-time0)\n",
    "#print(\"TIMES:\", TIMES)\n",
    "#print(\"LOSS:\", LOSS)"
   ]
  },
  {
   "cell_type": "code",
   "execution_count": 21,
   "id": "e2166df5",
   "metadata": {},
   "outputs": [
    {
     "name": "stdout",
     "output_type": "stream",
     "text": [
      "tensor(0.7144, grad_fn=<NllLossBackward0>)\n"
     ]
    }
   ],
   "source": [
    "criterion.zero_grad()\n",
    "out = model(x)\n",
    "loss = criterion(out, y.type(torch.LongTensor))\n",
    "print(loss)"
   ]
  },
  {
   "cell_type": "code",
   "execution_count": 23,
   "id": "d87adc9e",
   "metadata": {},
   "outputs": [
    {
     "name": "stdout",
     "output_type": "stream",
     "text": [
      "62530\n"
     ]
    }
   ],
   "source": [
    "print(sum(param.numel() for param in model.parameters()))"
   ]
  },
  {
   "cell_type": "code",
   "execution_count": 24,
   "id": "724959ba",
   "metadata": {},
   "outputs": [
    {
     "name": "stdout",
     "output_type": "stream",
     "text": [
      "64\n",
      "16384\n",
      "64\n",
      "64\n",
      "64\n",
      "64\n",
      "64\n",
      "12288\n",
      "192\n",
      "4096\n",
      "64\n",
      "4096\n",
      "4096\n",
      "4096\n",
      "8192\n",
      "128\n",
      "8192\n",
      "64\n",
      "64\n",
      "64\n",
      "128\n",
      "2\n"
     ]
    }
   ],
   "source": [
    "for param in model.parameters():\n",
    "    print(param.numel())"
   ]
  },
  {
   "cell_type": "code",
   "execution_count": null,
   "id": "1580bf48",
   "metadata": {},
   "outputs": [],
   "source": []
  }
 ],
 "metadata": {
  "kernelspec": {
   "display_name": "Python 3 (ipykernel)",
   "language": "python",
   "name": "python3"
  },
  "language_info": {
   "codemirror_mode": {
    "name": "ipython",
    "version": 3
   },
   "file_extension": ".py",
   "mimetype": "text/x-python",
   "name": "python",
   "nbconvert_exporter": "python",
   "pygments_lexer": "ipython3",
   "version": "3.9.12"
  }
 },
 "nbformat": 4,
 "nbformat_minor": 5
}
